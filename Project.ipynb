{
 "cells": [
  {
   "cell_type": "markdown",
   "metadata": {},
   "source": [
    "# Optimization projec: clustering"
   ]
  },
  {
   "cell_type": "markdown",
   "metadata": {},
   "source": [
    "__Given that we don't have the proper datafiles to run the code, we will use synthetic ones to still do the work, and\n",
    "as soon as we have the real files we will just substitute them.__"
   ]
  },
  {
   "cell_type": "code",
   "execution_count": 1,
   "metadata": {},
   "outputs": [],
   "source": [
    "import numpy as np\n",
    "from numpy import random\n",
    "import pandas as pd\n",
    "from sklearn.neighbors import DistanceMetric\n",
    "N = 200\n",
    "#Simulate dataframe\n",
    "X1 = np.random.uniform(low=0, high=25, size=N)\n",
    "X2 = np.random.uniform(low=0, high=25, size=N)\n",
    "df = pd.DataFrame({'X1': X1, 'X2': X2}, columns=['X1', 'X2'])"
   ]
  },
  {
   "cell_type": "markdown",
   "metadata": {},
   "source": [
    "## Minimum Spanning Tree Clustering\n"
   ]
  },
  {
   "cell_type": "markdown",
   "metadata": {},
   "source": [
    "## naive approach: compute all distances:"
   ]
  },
  {
   "cell_type": "code",
   "execution_count": 2,
   "metadata": {
    "code_folding": []
   },
   "outputs": [],
   "source": [
    "def MST_clustering(K, N, ordered_result):\n",
    "    cluster_dict = {}\n",
    "    k = 0\n",
    "    vertex = []\n",
    "    counter = 0\n",
    "    i = 0\n",
    "    final_number_clusters = N-K\n",
    "    for ite in ordered_result:\n",
    "        if counter == final_number_clusters:\n",
    "            for ite in ordered_result[i:]:\n",
    "                if ite[0] not in vertex:\n",
    "                    k += 1\n",
    "                    cluster_dict[k] = [ite[0]]\n",
    "                    #df.Cluster.iloc[ite[0]] = k\n",
    "                    vertex.append(ite[0])\n",
    "                if ite[1] not in vertex:\n",
    "                    k += 1\n",
    "                    cluster_dict[k] = [ite[1]]  \n",
    "                    #df.Cluster.iloc[ite[1]] = k\n",
    "                    vertex.append(ite[1])\n",
    "            return cluster_dict\n",
    "        key_0 = -1\n",
    "        key_1 = -1\n",
    "        for cluster in cluster_dict:\n",
    "            for el in cluster_dict[cluster]:\n",
    "                if ite[0] == el:\n",
    "                    key_0 = cluster\n",
    "                    \n",
    "        for cluster in cluster_dict:\n",
    "            for el in cluster_dict[cluster]:\n",
    "                if ite[1] == el: \n",
    "                    key_1 = cluster\n",
    "        if (key_0 == -1) and (key_1 == -1):\n",
    "            k += 1\n",
    "            cluster_dict[k] = [ite[0]] \n",
    "            cluster_dict[k] += [ite[1]]\n",
    "            counter +=1\n",
    "            #df.Cluster.iloc[ite[0]] = k\n",
    "            #df.Cluster.iloc[ite[1]] = k\n",
    "            vertex.append(ite[0])\n",
    "            vertex.append(ite[1])\n",
    "        elif (key_0 == -1) and (key_1 != -1):\n",
    "            cluster_dict[key_1] += [ite[0]]\n",
    "            #df.Cluster.iloc[ite[0]] = key_1\n",
    "            counter +=1\n",
    "            vertex.append(ite[0])\n",
    "        elif (key_0 != -1) and (key_1 == -1):\n",
    "            cluster_dict[key_0] += [ite[1]]\n",
    "            #df.Cluster.iloc[ite[1]] = key_0\n",
    "            counter +=1\n",
    "            vertex.append(ite[1])\n",
    "        else:\n",
    "            if key_0 == key_1:\n",
    "                pass\n",
    "            else:\n",
    "                cluster_dict[key_0] += cluster_dict[key_1]\n",
    "                #for el in cluster_dict[key_1]:\n",
    "                    #df.Cluster.iloc[el] = key_0\n",
    "                del cluster_dict[key_1]\n",
    "                counter +=1\n",
    "        i +=1\n",
    "    return cluster_dict\n",
    "\n",
    "# try to find out whether the range (2) thing actually works (last case)"
   ]
  },
  {
   "cell_type": "code",
   "execution_count": 455,
   "metadata": {},
   "outputs": [
    {
     "name": "stdout",
     "output_type": "stream",
     "text": [
      "CPU times: user 139 ms, sys: 4.69 ms, total: 143 ms\n",
      "Wall time: 154 ms\n"
     ]
    }
   ],
   "source": [
    "%%time\n",
    "cluster_dict = MST_clustering(199, 200, ordered_result)"
   ]
  },
  {
   "cell_type": "code",
   "execution_count": 456,
   "metadata": {},
   "outputs": [
    {
     "data": {
      "text/plain": [
       "199"
      ]
     },
     "execution_count": 456,
     "metadata": {},
     "output_type": "execute_result"
    }
   ],
   "source": [
    "len(cluster_dict)"
   ]
  },
  {
   "cell_type": "code",
   "execution_count": 457,
   "metadata": {},
   "outputs": [],
   "source": [
    "import matplotlib.pyplot as plt\n",
    "import seaborn as sns"
   ]
  },
  {
   "cell_type": "code",
   "execution_count": 458,
   "metadata": {},
   "outputs": [],
   "source": [
    "ind_list = []\n",
    "clust_list = []\n",
    "for k, v in cluster_dict.items():\n",
    "    [clust_list.append(k) for i in v]\n",
    "    [ind_list.append(val) for val in v]\n",
    "df_s = pd.DataFrame()\n",
    "df_s['indices'] = ind_list\n",
    "df_s['cluster'] = clust_list\n",
    "cluster = df_s.sort_values('indices').cluster\n",
    "cluster = cluster.reset_index(drop=True)"
   ]
  },
  {
   "cell_type": "code",
   "execution_count": 459,
   "metadata": {},
   "outputs": [],
   "source": [
    "df['Cluster'] = cluster"
   ]
  },
  {
   "cell_type": "code",
   "execution_count": 460,
   "metadata": {},
   "outputs": [
    {
     "data": {
      "text/html": [
       "<div>\n",
       "<style scoped>\n",
       "    .dataframe tbody tr th:only-of-type {\n",
       "        vertical-align: middle;\n",
       "    }\n",
       "\n",
       "    .dataframe tbody tr th {\n",
       "        vertical-align: top;\n",
       "    }\n",
       "\n",
       "    .dataframe thead th {\n",
       "        text-align: right;\n",
       "    }\n",
       "</style>\n",
       "<table border=\"1\" class=\"dataframe\">\n",
       "  <thead>\n",
       "    <tr style=\"text-align: right;\">\n",
       "      <th></th>\n",
       "      <th>X1</th>\n",
       "      <th>X2</th>\n",
       "      <th>Cluster</th>\n",
       "    </tr>\n",
       "  </thead>\n",
       "  <tbody>\n",
       "    <tr>\n",
       "      <th>0</th>\n",
       "      <td>20.060878</td>\n",
       "      <td>21.965207</td>\n",
       "    </tr>\n",
       "    <tr>\n",
       "      <th>1</th>\n",
       "      <td>8.259858</td>\n",
       "      <td>17.998107</td>\n",
       "    </tr>\n",
       "    <tr>\n",
       "      <th>2</th>\n",
       "      <td>7.462406</td>\n",
       "      <td>19.675533</td>\n",
       "    </tr>\n",
       "    <tr>\n",
       "      <th>3</th>\n",
       "      <td>22.074943</td>\n",
       "      <td>19.540668</td>\n",
       "    </tr>\n",
       "    <tr>\n",
       "      <th>4</th>\n",
       "      <td>8.975622</td>\n",
       "      <td>9.842485</td>\n",
       "    </tr>\n",
       "    <tr>\n",
       "      <th>...</th>\n",
       "      <td>...</td>\n",
       "      <td>...</td>\n",
       "      <td>...</td>\n",
       "    </tr>\n",
       "    <tr>\n",
       "      <th>195</th>\n",
       "      <td>1.659980</td>\n",
       "      <td>7.337579</td>\n",
       "    </tr>\n",
       "    <tr>\n",
       "      <th>196</th>\n",
       "      <td>3.127837</td>\n",
       "      <td>10.529380</td>\n",
       "    </tr>\n",
       "    <tr>\n",
       "      <th>197</th>\n",
       "      <td>10.272187</td>\n",
       "      <td>13.480077</td>\n",
       "    </tr>\n",
       "    <tr>\n",
       "      <th>198</th>\n",
       "      <td>6.999000</td>\n",
       "      <td>18.326592</td>\n",
       "    </tr>\n",
       "    <tr>\n",
       "      <th>199</th>\n",
       "      <td>11.132592</td>\n",
       "      <td>18.056344</td>\n",
       "    </tr>\n",
       "  </tbody>\n",
       "</table>\n",
       "<p>200 rows × 3 columns</p>\n",
       "</div>"
      ],
      "text/plain": [
       "            X1         X2\n",
       "0    20.060878  21.965207\n",
       "1     8.259858  17.998107\n",
       "2     7.462406  19.675533\n",
       "3    22.074943  19.540668\n",
       "4     8.975622   9.842485\n",
       "..         ...        ...\n",
       "195   1.659980   7.337579\n",
       "196   3.127837  10.529380\n",
       "197  10.272187  13.480077\n",
       "198   6.999000  18.326592\n",
       "199  11.132592  18.056344\n",
       "\n",
       "[200 rows x 3 columns]"
      ]
     },
     "execution_count": 2,
     "metadata": {},
     "output_type": "execute_result"
    }
   ],
   "source": [
    "df"
   ]
  },
  {
   "cell_type": "code",
   "execution_count": 461,
   "metadata": {},
   "outputs": [
    {
     "data": {
      "text/plain": [
       "<seaborn.axisgrid.FacetGrid at 0x7f66fc4dd970>"
      ]
     },
     "execution_count": 461,
     "metadata": {},
     "output_type": "execute_result"
    },
    {
     "data": {
      "image/png": "[encoded data removed]",
      "text/plain": [
       "<Figure size 415.125x360 with 1 Axes>"
      ]
     },
     "metadata": {
      "needs_background": "light"
     },
     "output_type": "display_data"
    }
   ],
   "source": [
    "import seaborn as sns\n",
    "sns.lmplot(x='X1', y='X2', hue='Cluster', data=df, fit_reg = False)"
   ]
  },
  {
   "cell_type": "markdown",
   "metadata": {},
   "source": [
    "## The Davies-Bouldin index"
   ]
  },
  {
   "cell_type": "markdown",
   "metadata": {},
   "source": [
    " - First of all let's compute the centroid of each cluster"
   ]
  },
  {
   "cell_type": "code",
   "execution_count": 462,
   "metadata": {},
   "outputs": [],
   "source": [
    "def Davies_Bouldin(cluster_dict,df):\n",
    "    clusters = []\n",
    "    for n in cluster_dict:\n",
    "        clusters.append(n)\n",
    "    centroid_dict = {}\n",
    "    for n in clusters:\n",
    "        mask = (df.Cluster == n)\n",
    "        nice = df[mask]\n",
    "        centroid = nice.mean()\n",
    "        centroid = centroid.to_list()\n",
    "        centroid_dict[n] = [centroid[0],centroid[1]]\n",
    "    S_i = {}\n",
    "    for n in cluster_dict:\n",
    "        sum_ = 0\n",
    "        for el in cluster_dict[n]:\n",
    "            sum_ += np.linalg.norm(np.array([df.iloc[el][0], df.iloc[el][1]]) - \n",
    "                               np.array([centroid_dict[n][0], centroid_dict[n][1]]))\n",
    "            average = sum_/len(cluster_dict[n])\n",
    "            S_i[n] = average\n",
    "    M_ij = {}\n",
    "    centroids = list(centroid_dict.keys())\n",
    "    for i in range(0,len(centroids)):\n",
    "        for j in range(i+1,len(centroids)):\n",
    "            distance = np.linalg.norm(np.array([centroid_dict[centroids[i]][0], centroid_dict[centroids[i]][1]]) \n",
    "                                  - np.array([centroid_dict[centroids[j]][0], centroid_dict[centroids[j]][1]]))\n",
    "            M_ij[(centroids[i],centroids[j])] = distance \n",
    "    dispersion = list(S_i.keys())\n",
    "    D_i = {}\n",
    "    for i in range(0, len(dispersion)):\n",
    "        D_i[dispersion[i]] = 0\n",
    "        for j in range(0,len(dispersion)):\n",
    "            if i!=j:\n",
    "                try:\n",
    "                    R_ij = (S_i[dispersion[i]]+S_i[dispersion[j]])/(M_ij[(dispersion[i],dispersion[j])])\n",
    "                    if R_ij >= D_i[dispersion[i]]:\n",
    "                        D_i[dispersion[i]] = R_ij\n",
    "                except:\n",
    "                    R_ij = (S_i[dispersion[i]]+S_i[dispersion[j]])/(M_ij[(dispersion[j],dispersion[i])])\n",
    "                    if R_ij >= D_i[dispersion[i]]:\n",
    "                        D_i[dispersion[i]] = R_ij\n",
    "    count = 0\n",
    "    for n in D_i:\n",
    "        count += D_i[n]\n",
    "    DB = count/len(D_i)\n",
    "    return DB"
   ]
  },
  {
   "cell_type": "code",
   "execution_count": 463,
   "metadata": {},
   "outputs": [],
   "source": [
    "DB = Davies_Bouldin(cluster_dict,df)"
   ]
  },
  {
   "cell_type": "code",
   "execution_count": 464,
   "metadata": {},
   "outputs": [
    {
     "data": {
      "text/plain": [
       "0.007963598081933025"
      ]
     },
     "execution_count": 464,
     "metadata": {},
     "output_type": "execute_result"
    }
   ],
   "source": [
    "DB"
   ]
  },
  {
   "cell_type": "code",
   "execution_count": 465,
   "metadata": {},
   "outputs": [],
   "source": [
    "from sklearn.metrics import davies_bouldin_score"
   ]
  },
  {
   "cell_type": "code",
   "execution_count": 314,
   "metadata": {},
   "outputs": [
    {
     "data": {
      "text/plain": [
       "{27: [[169, 185],\n",
       "  [38, 185],\n",
       "  [74, 101],\n",
       "  [3, 74],\n",
       "  [120, 122],\n",
       "  [80, 184],\n",
       "  [68, 184],\n",
       "  [147, 188],\n",
       "  [46, 131],\n",
       "  [94, 173],\n",
       "  [87, 173],\n",
       "  [94, 128],\n",
       "  [149, 179],\n",
       "  [10, 149],\n",
       "  [17, 119],\n",
       "  [61, 119],\n",
       "  [61, 90],\n",
       "  [10, 75],\n",
       "  [90, 96],\n",
       "  [104, 114],\n",
       "  [104, 153],\n",
       "  [76, 153],\n",
       "  [108, 168],\n",
       "  [108, 123],\n",
       "  [36, 91],\n",
       "  [45, 91],\n",
       "  [45, 62],\n",
       "  [5, 129],\n",
       "  [39, 56],\n",
       "  [0, 146],\n",
       "  [0, 93],\n",
       "  [20, 146],\n",
       "  [20, 152],\n",
       "  [93, 103],\n",
       "  [113, 152],\n",
       "  [59, 163],\n",
       "  [163, 176],\n",
       "  [8, 176],\n",
       "  [59, 116],\n",
       "  [27, 98],\n",
       "  [7, 29],\n",
       "  [73, 118],\n",
       "  [145, 181],\n",
       "  [6, 159],\n",
       "  [70, 107],\n",
       "  [145, 165],\n",
       "  [48, 69],\n",
       "  [69, 172],\n",
       "  [150, 189],\n",
       "  [28, 141],\n",
       "  [141, 154],\n",
       "  [33, 37],\n",
       "  [15, 33],\n",
       "  [83, 115],\n",
       "  [77, 83],\n",
       "  [115, 183],\n",
       "  [102, 170],\n",
       "  [85, 170],\n",
       "  [132, 167],\n",
       "  [97, 167],\n",
       "  [63, 65],\n",
       "  [63, 86],\n",
       "  [16, 85],\n",
       "  [100, 148],\n",
       "  [157, 190],\n",
       "  [106, 140],\n",
       "  [105, 140],\n",
       "  [44, 126],\n",
       "  [35, 134],\n",
       "  [35, 111],\n",
       "  [25, 134],\n",
       "  [40, 195],\n",
       "  [31, 160],\n",
       "  [31, 50],\n",
       "  [26, 58],\n",
       "  [26, 109],\n",
       "  [9, 162],\n",
       "  [21, 166],\n",
       "  [166, 197],\n",
       "  [52, 199],\n",
       "  [52, 92],\n",
       "  [64, 156],\n",
       "  [51, 79],\n",
       "  [51, 125],\n",
       "  [81, 174],\n",
       "  [95, 174],\n",
       "  [24, 95],\n",
       "  [24, 133],\n",
       "  [135, 144],\n",
       "  [23, 110],\n",
       "  [130, 194],\n",
       "  [22, 130],\n",
       "  [14, 88],\n",
       "  [34, 178],\n",
       "  [89, 178],\n",
       "  [13, 72],\n",
       "  [4, 30],\n",
       "  [30, 186],\n",
       "  [19, 99],\n",
       "  [112, 139],\n",
       "  [121, 139],\n",
       "  [112, 137],\n",
       "  [121, 191],\n",
       "  [187, 193],\n",
       "  [1, 12],\n",
       "  [175, 187],\n",
       "  [60, 198],\n",
       "  [84, 198],\n",
       "  [82, 164],\n",
       "  [71, 180],\n",
       "  [138, 180],\n",
       "  [71, 117],\n",
       "  [2, 117],\n",
       "  [127, 177],\n",
       "  [78, 155],\n",
       "  [78, 143],\n",
       "  [57, 124],\n",
       "  [55, 127],\n",
       "  [32, 171],\n",
       "  [41, 171],\n",
       "  [66, 151],\n",
       "  [43, 151],\n",
       "  [42, 54],\n",
       "  [182, 196],\n",
       "  [67, 196],\n",
       "  [49, 192],\n",
       "  [136, 158],\n",
       "  [47, 161],\n",
       "  [53, 161],\n",
       "  [11, 18],\n",
       "  [18, 142]]}"
      ]
     },
     "execution_count": 314,
     "metadata": {},
     "output_type": "execute_result"
    }
   ],
   "source": [
    "foodict"
   ]
  },
  {
   "cell_type": "code",
   "execution_count": null,
   "metadata": {},
   "outputs": [],
   "source": []
  },
  {
   "cell_type": "code",
   "execution_count": null,
   "metadata": {},
   "outputs": [],
   "source": []
  },
  {
   "cell_type": "code",
   "execution_count": null,
   "metadata": {},
   "outputs": [],
   "source": []
  },
  {
   "cell_type": "code",
   "execution_count": null,
   "metadata": {},
   "outputs": [],
   "source": []
  },
  {
   "cell_type": "code",
   "execution_count": null,
   "metadata": {},
   "outputs": [],
   "source": []
  },
  {
   "cell_type": "code",
   "execution_count": null,
   "metadata": {},
   "outputs": [],
   "source": [
    "label = df.Cluster.to_list()"
   ]
  },
  {
   "cell_type": "code",
   "execution_count": 467,
   "metadata": {},
   "outputs": [],
   "source": [
    "db = davies_bouldin_score(df.drop('Cluster',axis=1), labels = label)"
   ]
  },
  {
   "cell_type": "code",
   "execution_count": 468,
   "metadata": {},
   "outputs": [
    {
     "data": {
      "text/plain": [
       "0.007963598081893007"
      ]
     },
     "execution_count": 468,
     "metadata": {},
     "output_type": "execute_result"
    }
   ],
   "source": [
    "db"
   ]
  }
 ],
 "metadata": {
  "kernelspec": {
   "display_name": "Python 3",
   "language": "python",
   "name": "python3"
  },
  "language_info": {
   "codemirror_mode": {
    "name": "ipython",
    "version": 3
   },
   "file_extension": ".py",
   "mimetype": "text/x-python",
   "name": "python",
   "nbconvert_exporter": "python",
   "pygments_lexer": "ipython3",
   "version": "3.8.5"
  },
  "toc": {
   "base_numbering": 1,
   "nav_menu": {},
   "number_sections": true,
   "sideBar": true,
   "skip_h1_title": false,
   "title_cell": "Table of Contents",
   "title_sidebar": "Contents",
   "toc_cell": false,
   "toc_position": {},
   "toc_section_display": true,
   "toc_window_display": false
  }
 },
 "nbformat": 4,
 "nbformat_minor": 4
}
