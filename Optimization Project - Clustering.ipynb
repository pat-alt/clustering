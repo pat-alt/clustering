{
 "cells": [
  {
   "cell_type": "markdown",
   "metadata": {},
   "source": [
    "# Optimization project: clustering"
   ]
  },
  {
   "cell_type": "code",
   "execution_count": 1,
   "metadata": {},
   "outputs": [],
   "source": [
    "import numpy as np\n",
    "from numpy import random\n",
    "import pandas as pd\n",
    "from sklearn.neighbors import DistanceMetric\n",
    "import functools\n",
    "import operator\n",
    "import matplotlib.pyplot as plt\n",
    "import random\n",
    "from scipy.spatial import distance"
   ]
  },
  {
   "cell_type": "markdown",
   "metadata": {},
   "source": [
    "__Given that we don't have the proper datafiles to run the code, we will use synthetic ones to still do the work, and\n",
    "as soon as we have the real files we will just substitute them.__"
   ]
  },
  {
   "cell_type": "code",
   "execution_count": 2,
   "metadata": {},
   "outputs": [],
   "source": [
    "#Simulate dataframe\n",
    "def simulate_data_2(N):\n",
    "    X1 = np.random.uniform(low=0, high=25, size=(N))\n",
    "    X2 = np.random.uniform(low=0, high=25, size=(N))\n",
    "    return X1, X2"
   ]
  },
  {
   "cell_type": "code",
   "execution_count": 4,
   "metadata": {},
   "outputs": [],
   "source": [
    "def simulate_data_5(N):\n",
    "    X1 = np.random.uniform(low=0, high=25, size=(N))\n",
    "    X2 = np.random.uniform(low=0, high=25, size=(N))\n",
    "    X3 = np.random.uniform(low=0, high=25, size=(N))\n",
    "    X4 = np.random.uniform(low=0, high=25, size=(N))\n",
    "    X5 = np.random.uniform(low=0, high=25, size=(N))\n",
    "    return X1, X2, X3, X4, X5 "
   ]
  },
  {
   "cell_type": "markdown",
   "metadata": {},
   "source": [
    "# Minimum Spanning Tree Clustering\n"
   ]
  },
  {
   "cell_type": "markdown",
   "metadata": {},
   "source": [
    "## Computing all the distances"
   ]
  },
  {
   "cell_type": "code",
   "execution_count": 5,
   "metadata": {},
   "outputs": [],
   "source": [
    "from scipy.spatial import distance\n",
    "def compute_dist(df):\n",
    "    result = []\n",
    "    for i in range(len(df)):\n",
    "        for j in range(i+1,len(df)):\n",
    "            d = distance.euclidean(df.iloc[i].to_list(),df.iloc[j].to_list())\n",
    "            result.append([i, j, d])\n",
    "\n",
    "    ordered_result = sorted(result, key=lambda t: t[::-1])\n",
    "    return ordered_result"
   ]
  },
  {
   "cell_type": "markdown",
   "metadata": {},
   "source": [
    "## MST"
   ]
  },
  {
   "cell_type": "markdown",
   "metadata": {},
   "source": [
    "To find the minimum spanning tree it makes sense to differentiate the following cases:\n",
    "\n",
    "    case 1: None of them are in a cluster:\n",
    "    case 2: Only one of them is already in a cluster:\n",
    "    case 3: Both of them are already in a cluster:\n",
    "        --> 3a: Both of them are in the same cluster: do nothing\n",
    "        --> 3b: They are in different clusters: merge the 2 corresponding clusters\n"
   ]
  },
  {
   "cell_type": "code",
   "execution_count": 6,
   "metadata": {},
   "outputs": [],
   "source": [
    "def MST_clustering(K, N, ordered_result):\n",
    "    cluster_dict = {}\n",
    "    k = 0\n",
    "    vertex = []\n",
    "    counter = 0\n",
    "    i = 0\n",
    "    final_number_clusters = N-K\n",
    "    for ite in ordered_result:\n",
    "        if counter == final_number_clusters:\n",
    "            for ite in ordered_result[i:]:\n",
    "                if ite[0] not in vertex:\n",
    "                    k += 1\n",
    "                    cluster_dict[k] = [ite[0]]\n",
    "                    #df.Cluster.iloc[ite[0]] = k\n",
    "                    vertex.append(ite[0])\n",
    "                if ite[1] not in vertex:\n",
    "                    k += 1\n",
    "                    cluster_dict[k] = [ite[1]]  \n",
    "                    #df.Cluster.iloc[ite[1]] = k\n",
    "                    vertex.append(ite[1])\n",
    "            return cluster_dict\n",
    "        key_0 = -1\n",
    "        key_1 = -1\n",
    "        for cluster in cluster_dict:\n",
    "            for el in cluster_dict[cluster]:\n",
    "                if ite[0] == el:\n",
    "                    key_0 = cluster\n",
    "                    \n",
    "        for cluster in cluster_dict:\n",
    "            for el in cluster_dict[cluster]:\n",
    "                if ite[1] == el: \n",
    "                    key_1 = cluster\n",
    "        if (key_0 == -1) and (key_1 == -1):\n",
    "            k += 1\n",
    "            cluster_dict[k] = [ite[0]] \n",
    "            cluster_dict[k] += [ite[1]]\n",
    "            counter +=1\n",
    "            #df.Cluster.iloc[ite[0]] = k\n",
    "            #df.Cluster.iloc[ite[1]] = k\n",
    "            vertex.append(ite[0])\n",
    "            vertex.append(ite[1])\n",
    "        elif (key_0 == -1) and (key_1 != -1):\n",
    "            cluster_dict[key_1] += [ite[0]]\n",
    "            #df.Cluster.iloc[ite[0]] = key_1\n",
    "            counter +=1\n",
    "            vertex.append(ite[0])\n",
    "        elif (key_0 != -1) and (key_1 == -1):\n",
    "            cluster_dict[key_0] += [ite[1]]\n",
    "            #df.Cluster.iloc[ite[1]] = key_0\n",
    "            counter +=1\n",
    "            vertex.append(ite[1])\n",
    "        else:\n",
    "            if key_0 == key_1:\n",
    "                pass\n",
    "            else:\n",
    "                cluster_dict[key_0] += cluster_dict[key_1]\n",
    "                #for el in cluster_dict[key_1]:\n",
    "                    #df.Cluster.iloc[el] = key_0\n",
    "                del cluster_dict[key_1]\n",
    "                counter +=1\n",
    "        i +=1\n",
    "    return cluster_dict\n",
    "\n",
    "# try to find out whether the range (2) thing actually works (last case)"
   ]
  },
  {
   "cell_type": "code",
   "execution_count": 7,
   "metadata": {},
   "outputs": [],
   "source": [
    "def get_df_2(cluster_dict):\n",
    "    ind_list = []\n",
    "    clust_list = []\n",
    "\n",
    "    for k, v in cluster_dict.items():\n",
    "        [clust_list.append(k) for i in v]\n",
    "        [ind_list.append(val) for val in v]\n",
    "\n",
    "    df_s = pd.DataFrame()\n",
    "    df_s['index'] = ind_list\n",
    "    df_s['Cluster'] = clust_list\n",
    "    \n",
    "    df_s = df_s.sort_values('index').set_index('index')\n",
    "    \n",
    "    df_s['X1'] = X1\n",
    "    df_s['X2'] = X2\n",
    "    return df_s"
   ]
  },
  {
   "cell_type": "code",
   "execution_count": 8,
   "metadata": {},
   "outputs": [],
   "source": [
    "def get_df_5(cluster_dict):\n",
    "    ind_list = []\n",
    "    clust_list = []\n",
    "\n",
    "    for k, v in cluster_dict.items():\n",
    "        [clust_list.append(k) for i in v]\n",
    "        [ind_list.append(val) for val in v]\n",
    "\n",
    "    df_s = pd.DataFrame()\n",
    "    df_s['index'] = ind_list\n",
    "    df_s['Cluster'] = clust_list\n",
    "    \n",
    "    df_s = df_s.sort_values('index').set_index('index')\n",
    "    \n",
    "    df_s['X1'] = X1\n",
    "    df_s['X2'] = X2\n",
    "    df_s['X3'] = X3\n",
    "    df_s['X4'] = X4\n",
    "    df_s['X5'] = X5\n",
    "    return df_s"
   ]
  },
  {
   "cell_type": "markdown",
   "metadata": {},
   "source": [
    "# Davies Bouldin algorithm"
   ]
  },
  {
   "cell_type": "code",
   "execution_count": 9,
   "metadata": {},
   "outputs": [],
   "source": [
    "def Davies_Bouldin(cluster_dict,df):\n",
    "    clusters = []\n",
    "    for n in cluster_dict:\n",
    "        clusters.append(n)\n",
    "    centroid_dict = {}\n",
    "    for n in clusters:\n",
    "        mask = (df.Cluster == n)\n",
    "        nice = df[mask]\n",
    "        centroid = nice.mean()\n",
    "        centroid = centroid.to_list()\n",
    "        list_ = []\n",
    "        for el in range(0,len(list(df.columns[:-1]))):\n",
    "            list_.append(centroid[el])\n",
    "            centroid_dict[n] = list_\n",
    "    S_i = {}\n",
    "    for n in cluster_dict:\n",
    "        sum_ = 0\n",
    "        for el in cluster_dict[n]:\n",
    "            sum_ += distance.euclidean(df.iloc[el][:-1],centroid_dict[n])\n",
    "            average = sum_/len(cluster_dict[n])\n",
    "            S_i[n] = average\n",
    "    M_ij = {}\n",
    "    centroids = list(centroid_dict.keys())\n",
    "    for i in range(0,len(centroids)):\n",
    "        for j in range(i+1,len(centroids)):\n",
    "            d = distance.euclidean(centroid_dict[centroids[i]],centroid_dict[centroids[j]])\n",
    "            M_ij[(centroids[i],centroids[j])] = d\n",
    "    dispersion = list(S_i.keys())\n",
    "    D_i = {}\n",
    "    for i in range(0, len(dispersion)):\n",
    "        D_i[dispersion[i]] = 0\n",
    "        for j in range(0,len(dispersion)):\n",
    "            if i!=j:\n",
    "                try:\n",
    "                    R_ij = (S_i[dispersion[i]]+S_i[dispersion[j]])/(M_ij[(dispersion[i],dispersion[j])])\n",
    "                    if R_ij >= D_i[dispersion[i]]:\n",
    "                        D_i[dispersion[i]] = R_ij\n",
    "                except:\n",
    "                    R_ij = (S_i[dispersion[i]]+S_i[dispersion[j]])/(M_ij[(dispersion[j],dispersion[i])])\n",
    "                    if R_ij >= D_i[dispersion[i]]:\n",
    "                        D_i[dispersion[i]] = R_ij\n",
    "    count = 0\n",
    "    for n in D_i:\n",
    "        count += D_i[n]\n",
    "    DB = count/len(D_i)\n",
    "    return DB"
   ]
  },
  {
   "cell_type": "code",
   "execution_count": null,
   "metadata": {
    "code_folding": []
   },
   "outputs": [],
   "source": [
    "#def MST_clustering_simon(K, ordered_result):\n",
    "#    cluster_dict = {}\n",
    "#    cluster_count = 1\n",
    "#    edge_count = 0\n",
    "#    visited = []\n",
    "#    \n",
    "#    \n",
    "#    for ite in ordered_result:\n",
    "#        # termination condition: if we are at K clusters, we just add the unvisited vertices as lone clusters\n",
    "#        if edge_count == 200 - K:\n",
    "#            for i in range(2):\n",
    "#                if ite[i] not in visited:\n",
    "#                    cluster_dict[cluster_count] = [ite[i]]\n",
    "#                    visited.append(ite[i])\n",
    "#                    cluster_count += 1\n",
    "#        # case 1:\n",
    "#        elif ite[0] not in visited and ite[1] not in visited:\n",
    "#            cluster_dict[cluster_count] = ite[:2]\n",
    "#            [visited.append(n) for n in ite[:2]]\n",
    "#            cluster_count += 1\n",
    "#            edge_count += 1\n",
    "#        # case 2:\n",
    "#        elif ite[0] in visited and ite[1] not in visited:\n",
    "#            for key, v in cluster_dict.items():\n",
    "#                if ite[0] in v:\n",
    "#                    cluster_dict[key].append(ite[1])\n",
    "#                    visited.append(ite[1])\n",
    "#                    edge_count += 1\n",
    "#        # case 2b: The other one:\n",
    "#        elif ite[1] in visited and ite[0] not in visited:\n",
    "#            for key, v in cluster_dict.items():\n",
    "#                if ite[1] in v:\n",
    "#                    cluster_dict[key].append(ite[0])\n",
    "#                    visited.append(ite[0])\n",
    "#                    edge_count += 1\n",
    "#        # case 3:\n",
    "#        elif ite[0] in visited and ite[1] in visited:\n",
    "#            for num in range(2):\n",
    "#                for key, v in cluster_dict.items():\n",
    "#                    if ite[num] in v:\n",
    "#                        # case 3: They are in different clusters: merge the 2 corresponding clusters\n",
    "#                        if ite[1-num] not in v:\n",
    "#                            if num == 0:\n",
    "#                                #cluster_dict[key].append(ite[num])\n",
    "#                                store_cluster = cluster_dict[key].copy()\n",
    "#                                cluster_dict[key] = []\n",
    "#                            elif num == 1:\n",
    "#                                [cluster_dict[key].append(n) for n in store_cluster]\n",
    "#                                edge_count += 1\n",
    "#                                \n",
    "#    # drop the keys where values were added to another key due to merging two clusters\n",
    "#    cluster_dict = {k: v for k, v in cluster_dict.items() if v != []}\n",
    "#    return cluster_dict"
   ]
  },
  {
   "cell_type": "markdown",
   "metadata": {},
   "source": [
    "# The Dunn Index"
   ]
  },
  {
   "cell_type": "code",
   "execution_count": 10,
   "metadata": {},
   "outputs": [],
   "source": [
    "def max_within(ordered_result, cluster_dict):\n",
    "    for i in range(len(ordered_result)):\n",
    "        for k,v in cluster_dict.items():\n",
    "            if ordered_result[-i-1][0] in v and ordered_result[-i-1][1] in v:\n",
    "                return ordered_result[-i-1][2]\n",
    "\n",
    "def min_between(ordered_result, cluster_dict):\n",
    "    for i in range(len(ordered_result)):\n",
    "        for k,v in cluster_dict.items():\n",
    "            if ordered_result[i][0] in v and ordered_result[i][1] not in v:\n",
    "                return ordered_result[i][2]\n",
    "\n",
    "def dunn(ordered_result, cluster_dict):\n",
    "    num = max_within(ordered_result, cluster_dict)\n",
    "    den = min_between(ordered_result, cluster_dict)\n",
    "    return num/den"
   ]
  },
  {
   "cell_type": "markdown",
   "metadata": {},
   "source": [
    "# Running the pipeline:"
   ]
  },
  {
   "cell_type": "markdown",
   "metadata": {},
   "source": [
    "### For the dataset with 2 columns ('Synthetic')"
   ]
  },
  {
   "cell_type": "code",
   "execution_count": 15,
   "metadata": {},
   "outputs": [],
   "source": [
    "N = 200\n",
    "X1, X2 = simulate_data_2(N)\n",
    "df = pd.DataFrame({'X1': X1, 'X2': X2}, columns=['X1', 'X2'])\n",
    "ordered_result = compute_dist(df)\n",
    "\n",
    "def main_MST(k, df):\n",
    "\n",
    "    cluster_dict = MST_clustering(k, N, ordered_result)\n",
    "    \n",
    "    df['Cluster']= get_df_2(cluster_dict)['Cluster']\n",
    "    \n",
    "    DB = Davies_Bouldin(cluster_dict,df)\n",
    "\n",
    "    Dunn = dunn(ordered_result, cluster_dict)\n",
    "    \n",
    "    return DB, Dunn"
   ]
  },
  {
   "cell_type": "code",
   "execution_count": 16,
   "metadata": {},
   "outputs": [],
   "source": [
    "DB = main_MST(15,df)[0]\n",
    "Dunn = main_MST(15,df)[1]"
   ]
  },
  {
   "cell_type": "markdown",
   "metadata": {},
   "source": [
    "### For the dataset with 5 columns ('Thyroid')"
   ]
  },
  {
   "cell_type": "code",
   "execution_count": 18,
   "metadata": {},
   "outputs": [],
   "source": [
    "N = 200\n",
    "X1, X2, X3, X4, X5 = simulate_data_5(N)\n",
    "df = pd.DataFrame({'X1': X1, 'X2': X2,'X3': X3, 'X4': X4, 'X5': X5}, columns=['X1', 'X2','X3', 'X4', 'X5'])\n",
    "ordered_result = compute_dist(df)\n",
    "\n",
    "def main(K, df):\n",
    "\n",
    "    cluster_dict = MST_clustering(K, N, ordered_result)\n",
    "    \n",
    "    df['Cluster']= get_df_5(cluster_dict)['Cluster']\n",
    "    \n",
    "    DB = Davies_Bouldin(cluster_dict,df)\n",
    "\n",
    "    Dunn = dunn(ordered_result, cluster_dict)\n",
    "    \n",
    "    return DB, Dunn\n",
    "\n",
    "n_clusters = []\n",
    "DB = []\n",
    "Dunn = []\n",
    "\n",
    "for K in range(2, N-1, 10):\n",
    "    n_clusters.append(K)\n",
    "    DB.append(main(K, df)[0])\n",
    "    Dunn.append(main(K,df)[1])"
   ]
  },
  {
   "cell_type": "code",
   "execution_count": 19,
   "metadata": {},
   "outputs": [
    {
     "data": {
      "image/png": "[encoded data removed]",
      "text/plain": [
       "<Figure size 432x288 with 1 Axes>"
      ]
     },
     "metadata": {
      "needs_background": "light"
     },
     "output_type": "display_data"
    },
    {
     "data": {
      "image/png": "[encoded data removed]",
      "text/plain": [
       "<Figure size 432x288 with 1 Axes>"
      ]
     },
     "metadata": {
      "needs_background": "light"
     },
     "output_type": "display_data"
    }
   ],
   "source": [
    "import seaborn as sns\n",
    "sns.lineplot(n_clusters,DB)\n",
    "plt.show()\n",
    "sns.lineplot(n_clusters,Dunn)\n",
    "plt.show()"
   ]
  },
  {
   "cell_type": "markdown",
   "metadata": {},
   "source": [
    "## K-Means Clustering"
   ]
  },
  {
   "cell_type": "code",
   "execution_count": 20,
   "metadata": {},
   "outputs": [],
   "source": [
    "# Randomly assign indeces of cluster centroids:\n",
    "def initiate_centroids(n, df):\n",
    "    centroids = []\n",
    "    random.seed(42) # use this since we want to compare the different number of clusters\n",
    "    \n",
    "    #generate random centroid indeces\n",
    "    initial_index_centroid = random.sample(range(0, len(df)), n)\n",
    "    \n",
    "    #find the data points corresponding the the indeces:\n",
    "    for i in initial_index_centroid:\n",
    "        centroids.append(df.loc[i])\n",
    "    return centroids\n",
    "\n",
    "\n",
    "# To calculate the distance between two points:\n",
    "def calc_distance(X1, X2):\n",
    "    return(sum((X1 - X2)**2))**0.5\n",
    "\n",
    "\n",
    "# To find the closest centroid to each data point:\n",
    "def findClosestCentroids(centroids, df):\n",
    "    assigned_centroid = []\n",
    "    \n",
    "    #iterate over every data point in the dataframe:\n",
    "    for index, row in df.iterrows():\n",
    "        distance=[]\n",
    "        \n",
    "        #find distance of data point with each cluster:\n",
    "        for center in centroids:\n",
    "            distance.append(calc_distance(row[:-1], center[:-1]))\n",
    "            \n",
    "        #assign data point to closest cluster:\n",
    "        assigned_centroid.append(np.argmin(distance))\n",
    "    return assigned_centroid\n",
    "\n",
    "\n",
    "#To update the centroid of the clusters:\n",
    "def calc_centroids(clusters, df):\n",
    "    \n",
    "    #initiate empty list for new centroids of each cluster:\n",
    "    new_centroids = []\n",
    "    \n",
    "    #df including each point and its respective cluster\n",
    "    new_df = pd.concat([pd.DataFrame(df), pd.DataFrame(clusters, columns=['cluster'])],\n",
    "                      axis=1)\n",
    "    \n",
    "    #iterate over the distinct clusters\n",
    "    for c in set(new_df['cluster']):\n",
    "        \n",
    "        #take out the data points corresponding to each cluster:\n",
    "        current_cluster = new_df[new_df['cluster'] == c][new_df.columns[:-1]]\n",
    "        \n",
    "        #find the new cluster centroid which is the mean of the clusters we already assigned\n",
    "        cluster_mean = current_cluster.mean(axis=0)\n",
    "        \n",
    "        #append the new centroid\n",
    "        new_centroids.append(cluster_mean)\n",
    "        \n",
    "    return new_centroids\n",
    "\n",
    "\n",
    "#Recursively find and update cluster centroids:\n",
    "#n: number of clusters, df: dataframe of data points, iterations: number of iterations\n",
    "def recursive_centroid_find(n, df, iterations):\n",
    "    #initiate centroids:\n",
    "    centroids = initiate_centroids(n, df)\n",
    "    # Recursively call the functions again to update the mean of the clusters:\n",
    "    for i in range(iterations):\n",
    "        get_centroids = findClosestCentroids(centroids, df)\n",
    "        centroids = calc_centroids(get_centroids, df)\n",
    "        #print(pd.DataFrame(centroids))\n",
    "        \n",
    "        #plot the centroids after every iteration:\n",
    "        #plt.figure()\n",
    "        #plt.scatter(np.array(centroids)[:, 0], np.array(centroids)[:, 1], color='red')\n",
    "        #plt.scatter(df.X1, df.X2, alpha=0.1)\n",
    "        #plt.show()\n",
    "    return pd.DataFrame(centroids)"
   ]
  },
  {
   "cell_type": "code",
   "execution_count": 21,
   "metadata": {},
   "outputs": [],
   "source": [
    "def get_cluster_dict(df):\n",
    "    cluster_dict = {}\n",
    "    visited = []\n",
    "    for n in range(0,len(df)):\n",
    "        if int(df.iloc[n][2]) in visited:\n",
    "            cluster_dict[int(df.iloc[n][2])] += [n]\n",
    "        else:\n",
    "            cluster_dict[int(df.iloc[n][2])] = [n]\n",
    "            visited.append(int(df.iloc[n][2]))\n",
    "    return cluster_dict"
   ]
  },
  {
   "cell_type": "markdown",
   "metadata": {},
   "source": [
    "# Running the pipeline:"
   ]
  },
  {
   "cell_type": "markdown",
   "metadata": {},
   "source": [
    "### For the dataset with 2 columns ('Synthetic')"
   ]
  },
  {
   "cell_type": "code",
   "execution_count": 22,
   "metadata": {},
   "outputs": [],
   "source": [
    "N = 200\n",
    "X1, X2 = simulate_data_2(N)\n",
    "df = pd.DataFrame({'X1': X1, 'X2': X2}, columns=['X1', 'X2'])\n",
    "\n",
    "def main_KMeans(k, df):\n",
    "    \n",
    "    centroids = initiate_centroids(k, df)\n",
    "    df['Cluster'] = findClosestCentroids(centroids, df)\n",
    "    cluster_dict = get_cluster_dict(df)\n",
    "    DB = Davies_Bouldin(cluster_dict,df)\n",
    "    Dunn = dunn(ordered_result, cluster_dict)\n",
    "    \n",
    "    return DB, Dunn"
   ]
  },
  {
   "cell_type": "code",
   "execution_count": 23,
   "metadata": {},
   "outputs": [],
   "source": [
    "DB, Dunn = main_KMeans(15,df)"
   ]
  },
  {
   "cell_type": "code",
   "execution_count": 24,
   "metadata": {},
   "outputs": [
    {
     "data": {
      "text/plain": [
       "5.563054348510862"
      ]
     },
     "execution_count": 24,
     "metadata": {},
     "output_type": "execute_result"
    }
   ],
   "source": [
    "DB"
   ]
  },
  {
   "cell_type": "code",
   "execution_count": 25,
   "metadata": {},
   "outputs": [
    {
     "data": {
      "text/plain": [
       "16.862439324737398"
      ]
     },
     "execution_count": 25,
     "metadata": {},
     "output_type": "execute_result"
    }
   ],
   "source": [
    "Dunn"
   ]
  },
  {
   "cell_type": "markdown",
   "metadata": {},
   "source": [
    "### For the dataset with 5 columns ('Thyroid')"
   ]
  },
  {
   "cell_type": "code",
   "execution_count": 26,
   "metadata": {},
   "outputs": [],
   "source": [
    "N = 200\n",
    "X1, X2, X3, X4, X5 = simulate_data_5(N)\n",
    "df = pd.DataFrame({'X1': X1, 'X2': X2,'X3': X3, 'X4': X4, 'X5': X5}, columns=['X1', 'X2','X3', 'X4', 'X5'])\n",
    "\n",
    "def main_KMeans(k, df):\n",
    "    \n",
    "    centroids = initiate_centroids(k, df)\n",
    "    df['Cluster'] = findClosestCentroids(centroids, df)\n",
    "    cluster_dict = get_cluster_dict(df)\n",
    "    DB = Davies_Bouldin(cluster_dict,df)\n",
    "    Dunn = dunn(ordered_result, cluster_dict)\n",
    "    \n",
    "    return DB, Dunn"
   ]
  },
  {
   "cell_type": "code",
   "execution_count": 27,
   "metadata": {},
   "outputs": [],
   "source": [
    "n_clusters = []\n",
    "DB = []\n",
    "Dunn = []\n",
    "for K in range(2, N-1, 10):\n",
    "    n_clusters.append(K)\n",
    "    DB.append(main(K, df)[0])\n",
    "    Dunn.append(main(K,df)[1])"
   ]
  },
  {
   "cell_type": "code",
   "execution_count": 28,
   "metadata": {},
   "outputs": [
    {
     "data": {
      "image/png": "[encoded data removed]",
      "text/plain": [
       "<Figure size 432x288 with 1 Axes>"
      ]
     },
     "metadata": {
      "needs_background": "light"
     },
     "output_type": "display_data"
    },
    {
     "data": {
      "image/png": "[encoded data removed]",
      "text/plain": [
       "<Figure size 432x288 with 1 Axes>"
      ]
     },
     "metadata": {
      "needs_background": "light"
     },
     "output_type": "display_data"
    }
   ],
   "source": [
    "import seaborn as sns\n",
    "sns.lineplot(n_clusters,DB)\n",
    "plt.show()\n",
    "sns.lineplot(n_clusters,Dunn)\n",
    "plt.show()"
   ]
  }
 ],
 "metadata": {
  "kernelspec": {
   "display_name": "Python 3",
   "language": "python",
   "name": "python3"
  },
  "language_info": {
   "codemirror_mode": {
    "name": "ipython",
    "version": 3
   },
   "file_extension": ".py",
   "mimetype": "text/x-python",
   "name": "python",
   "nbconvert_exporter": "python",
   "pygments_lexer": "ipython3",
   "version": "3.8.5"
  },
  "toc": {
   "base_numbering": 1,
   "nav_menu": {},
   "number_sections": true,
   "sideBar": true,
   "skip_h1_title": false,
   "title_cell": "Table of Contents",
   "title_sidebar": "Contents",
   "toc_cell": false,
   "toc_position": {},
   "toc_section_display": true,
   "toc_window_display": false
  }
 },
 "nbformat": 4,
 "nbformat_minor": 4
}
