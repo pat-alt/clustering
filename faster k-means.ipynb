{
 "cells": [
  {
   "cell_type": "code",
   "execution_count": 1,
   "metadata": {},
   "outputs": [],
   "source": [
    "import numpy as np\n",
    "from numpy import random\n",
    "import pandas as pd\n",
    "from sklearn.neighbors import DistanceMetric\n",
    "import functools\n",
    "import operator\n",
    "import matplotlib.pyplot as plt\n",
    "import random\n",
    "from scipy.spatial import distance"
   ]
  },
  {
   "cell_type": "code",
   "execution_count": 3,
   "metadata": {},
   "outputs": [],
   "source": [
    "def simulate_data_5(N):\n",
    "    X1 = np.random.uniform(low=0, high=25, size=(N))\n",
    "    X2 = np.random.uniform(low=0, high=25, size=(N))\n",
    "    X3 = np.random.uniform(low=0, high=25, size=(N))\n",
    "    X4 = np.random.uniform(low=0, high=25, size=(N))\n",
    "    X5 = np.random.uniform(low=0, high=25, size=(N))\n",
    "    return X1, X2, X3, X4, X5 "
   ]
  },
  {
   "cell_type": "code",
   "execution_count": 5,
   "metadata": {},
   "outputs": [],
   "source": [
    "from scipy.spatial import distance\n",
    "def compute_dist(df):\n",
    "    result = []\n",
    "    for i in range(len(df)):\n",
    "        for j in range(i+1,len(df)):\n",
    "            d = distance.euclidean(df.iloc[i].to_list(),df.iloc[j].to_list())\n",
    "            result.append([i, j, d])\n",
    "\n",
    "    ordered_result = sorted(result, key=lambda t: t[::-1])\n",
    "    return ordered_result"
   ]
  },
  {
   "cell_type": "code",
   "execution_count": 6,
   "metadata": {},
   "outputs": [],
   "source": [
    "N = 200\n",
    "X1, X2, X3, X4, X5 = simulate_data_5(N)\n",
    "df = pd.DataFrame({'X1': X1, 'X2': X2,'X3': X3, 'X4': X4, 'X5': X5}, columns=['X1', 'X2','X3', 'X4', 'X5'])\n",
    "ordered_result = compute_dist(df)"
   ]
  },
  {
   "cell_type": "code",
   "execution_count": 47,
   "metadata": {},
   "outputs": [],
   "source": [
    "# Randomly assign indeces of cluster centroids:\n",
    "def initiate_centroids(n, df):\n",
    "    centroids = []\n",
    "    random.seed(42) # use this since we want to compare the different number of clusters\n",
    "    \n",
    "    #generate random centroid indeces\n",
    "    initial_index_centroid = random.sample(range(0, len(df)), n)\n",
    "    \n",
    "    #find the data points corresponding the the indeces:\n",
    "    for i in initial_index_centroid:\n",
    "        centroids.append(df.loc[i])\n",
    "    return centroids\n",
    "\n",
    "\n",
    "# To calculate the distance between two points:\n",
    "def calc_distance(X1, X2):\n",
    "    return(sum((X1 - X2)**2))**0.5\n",
    "\n",
    "\n",
    "# To find the closest centroid to each data point:\n",
    "def findClosestCentroids(centroids, df):\n",
    "    assigned_centroid = []\n",
    "    \n",
    "    #iterate over every data point in the dataframe:\n",
    "    for index, row in df.iterrows():\n",
    "        distance=[]\n",
    "        \n",
    "        #find distance of data point with each cluster:\n",
    "        for center in centroids:\n",
    "            distance.append(calc_distance(row[:-1], center[:-1]))\n",
    "            \n",
    "        #assign data point to closest cluster:\n",
    "        assigned_centroid.append(np.argmin(distance))\n",
    "    return assigned_centroid\n",
    "\n",
    "\n",
    "#To update the centroid of the clusters:\n",
    "def calc_centroids(clusters, df):\n",
    "    \n",
    "    #initiate empty list for new centroids of each cluster:\n",
    "    new_centroids = []\n",
    "    \n",
    "    #df including each point and its respective cluster\n",
    "    new_df = pd.concat([pd.DataFrame(df), pd.DataFrame(clusters, columns=['cluster'])],\n",
    "                      axis=1)\n",
    "    \n",
    "    #iterate over the distinct clusters\n",
    "    for c in set(new_df['cluster']):\n",
    "        \n",
    "        #take out the data points corresponding to each cluster:\n",
    "        current_cluster = new_df[new_df['cluster'] == c][new_df.columns[:-1]]\n",
    "        \n",
    "        #find the new cluster centroid which is the mean of the clusters we already assigned\n",
    "        cluster_mean = current_cluster.mean(axis=0)\n",
    "        \n",
    "        #append the new centroid\n",
    "        new_centroids.append(cluster_mean)\n",
    "        \n",
    "    return new_centroids\n",
    "\n",
    "\n",
    "#Recursively find and update cluster centroids:\n",
    "#n: number of clusters, df: dataframe of data points, iterations: number of iterations\n",
    "def recursive_centroid_find(n, df):\n",
    "    \n",
    "    #initiate centroids:\n",
    "    old_centroids = initiate_centroids(n, df)\n",
    "  \n",
    "    #initiate new centroids (do this for first while loop condition to work)\n",
    "    new_centroids = calc_centroids(findClosestCentroids(old_centroids, df), df)\n",
    "\n",
    "    # Iterate until the absoulte difference between the coordinates of all centroids \n",
    "    #does not change, ie: the k-means algorithm converges:\n",
    "    while np.absolute(np.array(new_centroids) - np.array(old_centroids)).all() > 0.005:\n",
    "    \n",
    "        #set new centroids as the old ones:\n",
    "        old_centroids = new_centroids\n",
    "        \n",
    "        #find the new ones:\n",
    "        new_centroids = calc_centroids(findClosestCentroids(old_centroids, df), df)\n",
    "        \n",
    "        #print(np.array(new_centroids))\n",
    "        #plot the centroids after every iteration:\n",
    "        #plt.figure()\n",
    "        #plt.scatter(np.array(centroids)[:, 0], np.array(centroids)[:, 1], color='red')\n",
    "        #plt.scatter(df.X1, df.X2, alpha=0.1)\n",
    "        #plt.show()\n",
    "    return pd.DataFrame(new_centroids)"
   ]
  },
  {
   "cell_type": "code",
   "execution_count": 48,
   "metadata": {},
   "outputs": [
    {
     "name": "stdout",
     "output_type": "stream",
     "text": [
      "CPU times: user 9 µs, sys: 0 ns, total: 9 µs\n",
      "Wall time: 16.5 µs\n"
     ]
    },
    {
     "data": {
      "text/html": [
       "<div>\n",
       "<style scoped>\n",
       "    .dataframe tbody tr th:only-of-type {\n",
       "        vertical-align: middle;\n",
       "    }\n",
       "\n",
       "    .dataframe tbody tr th {\n",
       "        vertical-align: top;\n",
       "    }\n",
       "\n",
       "    .dataframe thead th {\n",
       "        text-align: right;\n",
       "    }\n",
       "</style>\n",
       "<table border=\"1\" class=\"dataframe\">\n",
       "  <thead>\n",
       "    <tr style=\"text-align: right;\">\n",
       "      <th></th>\n",
       "      <th>X1</th>\n",
       "      <th>X2</th>\n",
       "      <th>X3</th>\n",
       "      <th>X4</th>\n",
       "      <th>X5</th>\n",
       "    </tr>\n",
       "  </thead>\n",
       "  <tbody>\n",
       "    <tr>\n",
       "      <th>0</th>\n",
       "      <td>19.324653</td>\n",
       "      <td>8.368270</td>\n",
       "      <td>12.804679</td>\n",
       "      <td>6.891333</td>\n",
       "      <td>14.256500</td>\n",
       "    </tr>\n",
       "    <tr>\n",
       "      <th>1</th>\n",
       "      <td>11.664595</td>\n",
       "      <td>8.089540</td>\n",
       "      <td>5.380657</td>\n",
       "      <td>19.998803</td>\n",
       "      <td>13.211084</td>\n",
       "    </tr>\n",
       "    <tr>\n",
       "      <th>2</th>\n",
       "      <td>10.776673</td>\n",
       "      <td>18.884031</td>\n",
       "      <td>12.016986</td>\n",
       "      <td>9.103242</td>\n",
       "      <td>10.803905</td>\n",
       "    </tr>\n",
       "    <tr>\n",
       "      <th>3</th>\n",
       "      <td>6.026751</td>\n",
       "      <td>7.183992</td>\n",
       "      <td>17.947539</td>\n",
       "      <td>16.665132</td>\n",
       "      <td>13.434881</td>\n",
       "    </tr>\n",
       "  </tbody>\n",
       "</table>\n",
       "</div>"
      ],
      "text/plain": [
       "          X1         X2         X3         X4         X5\n",
       "0  19.324653   8.368270  12.804679   6.891333  14.256500\n",
       "1  11.664595   8.089540   5.380657  19.998803  13.211084\n",
       "2  10.776673  18.884031  12.016986   9.103242  10.803905\n",
       "3   6.026751   7.183992  17.947539  16.665132  13.434881"
      ]
     },
     "execution_count": 48,
     "metadata": {},
     "output_type": "execute_result"
    }
   ],
   "source": [
    "%time\n",
    "recursive_centroid_find(4, df)"
   ]
  }
 ],
 "metadata": {
  "kernelspec": {
   "display_name": "Python 3",
   "language": "python",
   "name": "python3"
  },
  "language_info": {
   "codemirror_mode": {
    "name": "ipython",
    "version": 3
   },
   "file_extension": ".py",
   "mimetype": "text/x-python",
   "name": "python",
   "nbconvert_exporter": "python",
   "pygments_lexer": "ipython3",
   "version": "3.8.5"
  },
  "varInspector": {
   "cols": {
    "lenName": 16,
    "lenType": 16,
    "lenVar": 40
   },
   "kernels_config": {
    "python": {
     "delete_cmd_postfix": "",
     "delete_cmd_prefix": "del ",
     "library": "var_list.py",
     "varRefreshCmd": "print(var_dic_list())"
    },
    "r": {
     "delete_cmd_postfix": ") ",
     "delete_cmd_prefix": "rm(",
     "library": "var_list.r",
     "varRefreshCmd": "cat(var_dic_list()) "
    }
   },
   "types_to_exclude": [
    "module",
    "function",
    "builtin_function_or_method",
    "instance",
    "_Feature"
   ],
   "window_display": false
  }
 },
 "nbformat": 4,
 "nbformat_minor": 4
}
