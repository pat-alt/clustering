{
 "cells": [
  {
   "cell_type": "markdown",
   "metadata": {},
   "source": [
    "# Optimization project: clustering"
   ]
  },
  {
   "cell_type": "code",
   "execution_count": 1,
   "metadata": {},
   "outputs": [],
   "source": [
    "import numpy as np\n",
    "from numpy import random\n",
    "import pandas as pd\n",
    "from sklearn.neighbors import DistanceMetric\n",
    "import functools\n",
    "import operator\n",
    "import matplotlib.pyplot as plt\n",
    "import random\n",
    "from scipy.spatial import distance"
   ]
  },
  {
   "cell_type": "markdown",
   "metadata": {},
   "source": [
    "__Given that we don't have the proper datafiles to run the code, we will use synthetic ones to still do the work, and\n",
    "as soon as we have the real files we will just substitute them.__"
   ]
  },
  {
   "cell_type": "code",
   "execution_count": 44,
   "metadata": {},
   "outputs": [],
   "source": [
    "#Simulate dataframe\n",
    "def simulate_data_2(N):\n",
    "    X1 = np.random.uniform(low=0, high=25, size=(N))\n",
    "    X2 = np.random.uniform(low=0, high=25, size=(N))\n",
    "    return X1, X2"
   ]
  },
  {
   "cell_type": "code",
   "execution_count": null,
   "metadata": {},
   "outputs": [],
   "source": [
    "X1, X2 = simulate_data_2(200)"
   ]
  },
  {
   "cell_type": "code",
   "execution_count": 2,
   "metadata": {},
   "outputs": [],
   "source": [
    "def simulate_data_5(N):\n",
    "    X1 = np.random.uniform(low=0, high=25, size=(N))\n",
    "    X2 = np.random.uniform(low=0, high=25, size=(N))\n",
    "    X3 = np.random.uniform(low=0, high=25, size=(N))\n",
    "    X4 = np.random.uniform(low=0, high=25, size=(N))\n",
    "    X5 = np.random.uniform(low=0, high=25, size=(N))\n",
    "    return X1, X2, X3, X4, X5 "
   ]
  },
  {
   "cell_type": "code",
   "execution_count": 6,
   "metadata": {},
   "outputs": [],
   "source": [
    "X1, X2, X3, X4, X5 = simulate_data_5(200)"
   ]
  },
  {
   "cell_type": "markdown",
   "metadata": {},
   "source": [
    "# Minimum Spanning Tree Clustering\n"
   ]
  },
  {
   "cell_type": "markdown",
   "metadata": {},
   "source": [
    "## Computing all the distances"
   ]
  },
  {
   "cell_type": "code",
   "execution_count": 7,
   "metadata": {},
   "outputs": [],
   "source": [
    "from scipy.spatial import distance\n",
    "def compute_dist(df):\n",
    "    result = []\n",
    "    for i in range(len(df)):\n",
    "        for j in range(i+1,len(df)):\n",
    "            d = distance.euclidean(df.iloc[i].to_list(),df.iloc[j].to_list())\n",
    "            result.append([i, j, d])\n",
    "\n",
    "    ordered_result = sorted(result, key=lambda t: t[::-1])\n",
    "    return ordered_result"
   ]
  },
  {
   "cell_type": "code",
   "execution_count": 8,
   "metadata": {},
   "outputs": [],
   "source": [
    "df = pd.DataFrame({'X1': X1, 'X2': X2,'X3': X3, 'X4': X4, 'X5': X5}, columns=['X1', 'X2','X3', 'X4', 'X5'])"
   ]
  },
  {
   "cell_type": "code",
   "execution_count": 9,
   "metadata": {},
   "outputs": [],
   "source": [
    "ordered_result = compute_dist(df)"
   ]
  },
  {
   "cell_type": "markdown",
   "metadata": {},
   "source": [
    "## MST"
   ]
  },
  {
   "cell_type": "markdown",
   "metadata": {},
   "source": [
    "To find the minimum spanning tree it makes sense to differentiate the following cases:\n",
    "\n",
    "    case 1: None of them are in a cluster:\n",
    "    case 2: Only one of them is already in a cluster:\n",
    "    case 3: Both of them are already in a cluster:\n",
    "        --> 3a: Both of them are in the same cluster: do nothing\n",
    "        --> 3b: They are in different clusters: merge the 2 corresponding clusters\n"
   ]
  },
  {
   "cell_type": "code",
   "execution_count": 10,
   "metadata": {},
   "outputs": [],
   "source": [
    "def MST_clustering(K, N, ordered_result):\n",
    "    cluster_dict = {}\n",
    "    k = 0\n",
    "    vertex = []\n",
    "    counter = 0\n",
    "    i = 0\n",
    "    final_number_clusters = N-K\n",
    "    for ite in ordered_result:\n",
    "        if counter == final_number_clusters:\n",
    "            for ite in ordered_result[i:]:\n",
    "                if ite[0] not in vertex:\n",
    "                    k += 1\n",
    "                    cluster_dict[k] = [ite[0]]\n",
    "                    #df.Cluster.iloc[ite[0]] = k\n",
    "                    vertex.append(ite[0])\n",
    "                if ite[1] not in vertex:\n",
    "                    k += 1\n",
    "                    cluster_dict[k] = [ite[1]]  \n",
    "                    #df.Cluster.iloc[ite[1]] = k\n",
    "                    vertex.append(ite[1])\n",
    "            return cluster_dict\n",
    "        key_0 = -1\n",
    "        key_1 = -1\n",
    "        for cluster in cluster_dict:\n",
    "            for el in cluster_dict[cluster]:\n",
    "                if ite[0] == el:\n",
    "                    key_0 = cluster\n",
    "                    \n",
    "        for cluster in cluster_dict:\n",
    "            for el in cluster_dict[cluster]:\n",
    "                if ite[1] == el: \n",
    "                    key_1 = cluster\n",
    "        if (key_0 == -1) and (key_1 == -1):\n",
    "            k += 1\n",
    "            cluster_dict[k] = [ite[0]] \n",
    "            cluster_dict[k] += [ite[1]]\n",
    "            counter +=1\n",
    "            #df.Cluster.iloc[ite[0]] = k\n",
    "            #df.Cluster.iloc[ite[1]] = k\n",
    "            vertex.append(ite[0])\n",
    "            vertex.append(ite[1])\n",
    "        elif (key_0 == -1) and (key_1 != -1):\n",
    "            cluster_dict[key_1] += [ite[0]]\n",
    "            #df.Cluster.iloc[ite[0]] = key_1\n",
    "            counter +=1\n",
    "            vertex.append(ite[0])\n",
    "        elif (key_0 != -1) and (key_1 == -1):\n",
    "            cluster_dict[key_0] += [ite[1]]\n",
    "            #df.Cluster.iloc[ite[1]] = key_0\n",
    "            counter +=1\n",
    "            vertex.append(ite[1])\n",
    "        else:\n",
    "            if key_0 == key_1:\n",
    "                pass\n",
    "            else:\n",
    "                cluster_dict[key_0] += cluster_dict[key_1]\n",
    "                #for el in cluster_dict[key_1]:\n",
    "                    #df.Cluster.iloc[el] = key_0\n",
    "                del cluster_dict[key_1]\n",
    "                counter +=1\n",
    "        i +=1\n",
    "    return cluster_dict\n",
    "\n",
    "# try to find out whether the range (2) thing actually works (last case)"
   ]
  },
  {
   "cell_type": "code",
   "execution_count": 11,
   "metadata": {},
   "outputs": [],
   "source": [
    "cluster_dict = MST_clustering(3,200,ordered_result)"
   ]
  },
  {
   "cell_type": "code",
   "execution_count": 12,
   "metadata": {},
   "outputs": [
    {
     "data": {
      "text/plain": [
       "3"
      ]
     },
     "execution_count": 12,
     "metadata": {},
     "output_type": "execute_result"
    }
   ],
   "source": [
    "len(cluster_dict)"
   ]
  },
  {
   "cell_type": "code",
   "execution_count": null,
   "metadata": {},
   "outputs": [],
   "source": [
    "def get_df_2(cluster_dict):\n",
    "    ind_list = []\n",
    "    clust_list = []\n",
    "\n",
    "    for k, v in cluster_dict.items():\n",
    "        [clust_list.append(k) for i in v]\n",
    "        [ind_list.append(val) for val in v]\n",
    "\n",
    "    df_s = pd.DataFrame()\n",
    "    df_s['index'] = ind_list\n",
    "    df_s['Cluster'] = clust_list\n",
    "    \n",
    "    df_s = df_s.sort_values('index').set_index('index')\n",
    "    \n",
    "    df_s['X1'] = X1\n",
    "    df_s['X2'] = X2\n",
    "    return df_s"
   ]
  },
  {
   "cell_type": "code",
   "execution_count": null,
   "metadata": {},
   "outputs": [],
   "source": [
    "df['Cluster']= get_df_2(cluster_dict)['Cluster']"
   ]
  },
  {
   "cell_type": "code",
   "execution_count": 13,
   "metadata": {},
   "outputs": [],
   "source": [
    "def get_df_5(cluster_dict):\n",
    "    ind_list = []\n",
    "    clust_list = []\n",
    "\n",
    "    for k, v in cluster_dict.items():\n",
    "        [clust_list.append(k) for i in v]\n",
    "        [ind_list.append(val) for val in v]\n",
    "\n",
    "    df_s = pd.DataFrame()\n",
    "    df_s['index'] = ind_list\n",
    "    df_s['Cluster'] = clust_list\n",
    "    \n",
    "    df_s = df_s.sort_values('index').set_index('index')\n",
    "    \n",
    "    df_s['X1'] = X1\n",
    "    df_s['X2'] = X2\n",
    "    df_s['X3'] = X3\n",
    "    df_s['X4'] = X4\n",
    "    df_s['X5'] = X5\n",
    "    return df_s"
   ]
  },
  {
   "cell_type": "code",
   "execution_count": 14,
   "metadata": {},
   "outputs": [],
   "source": [
    "df['Cluster']= get_df_5(cluster_dict)['Cluster']"
   ]
  },
  {
   "cell_type": "markdown",
   "metadata": {},
   "source": [
    "# Davies Bouldin algorithm"
   ]
  },
  {
   "cell_type": "code",
   "execution_count": null,
   "metadata": {},
   "outputs": [],
   "source": [
    "cluster_dict[47]"
   ]
  },
  {
   "cell_type": "code",
   "execution_count": null,
   "metadata": {},
   "outputs": [],
   "source": [
    "df.iloc[144][:-1]"
   ]
  },
  {
   "cell_type": "code",
   "execution_count": 34,
   "metadata": {},
   "outputs": [
    {
     "data": {
      "text/plain": [
       "int"
      ]
     },
     "execution_count": 34,
     "metadata": {},
     "output_type": "execute_result"
    }
   ],
   "source": [
    "len(list(df.columns[:-1]))\n"
   ]
  },
  {
   "cell_type": "code",
   "execution_count": 35,
   "metadata": {},
   "outputs": [],
   "source": [
    "def Davies_Bouldin(cluster_dict,df):\n",
    "    clusters = []\n",
    "    for n in cluster_dict:\n",
    "        clusters.append(n)\n",
    "    centroid_dict = {}\n",
    "    for n in clusters:\n",
    "        mask = (df.Cluster == n)\n",
    "        nice = df[mask]\n",
    "        centroid = nice.mean()\n",
    "        centroid = centroid.to_list()\n",
    "        list_ = []\n",
    "        for el in range(0,len(list(df.columns[:-1]))):\n",
    "            list_.append(centroid[el])\n",
    "            centroid_dict[n] = list_\n",
    "    S_i = {}\n",
    "    for n in cluster_dict:\n",
    "        sum_ = 0\n",
    "        for el in cluster_dict[n]:\n",
    "            sum_ += distance.euclidean(df.iloc[el][:-1],centroid_dict[n])\n",
    "            average = sum_/len(cluster_dict[n])\n",
    "            S_i[n] = average\n",
    "    M_ij = {}\n",
    "    centroids = list(centroid_dict.keys())\n",
    "    for i in range(0,len(centroids)):\n",
    "        for j in range(i+1,len(centroids)):\n",
    "            d = distance.euclidean(centroid_dict[centroids[i]],centroid_dict[centroids[j]])\n",
    "            M_ij[(centroids[i],centroids[j])] = d\n",
    "    dispersion = list(S_i.keys())\n",
    "    D_i = {}\n",
    "    for i in range(0, len(dispersion)):\n",
    "        D_i[dispersion[i]] = 0\n",
    "        for j in range(0,len(dispersion)):\n",
    "            if i!=j:\n",
    "                try:\n",
    "                    R_ij = (S_i[dispersion[i]]+S_i[dispersion[j]])/(M_ij[(dispersion[i],dispersion[j])])\n",
    "                    if R_ij >= D_i[dispersion[i]]:\n",
    "                        D_i[dispersion[i]] = R_ij\n",
    "                except:\n",
    "                    R_ij = (S_i[dispersion[i]]+S_i[dispersion[j]])/(M_ij[(dispersion[j],dispersion[i])])\n",
    "                    if R_ij >= D_i[dispersion[i]]:\n",
    "                        D_i[dispersion[i]] = R_ij\n",
    "    count = 0\n",
    "    for n in D_i:\n",
    "        count += D_i[n]\n",
    "    DB = count/len(D_i)\n",
    "    return DB"
   ]
  },
  {
   "cell_type": "code",
   "execution_count": 36,
   "metadata": {},
   "outputs": [],
   "source": [
    "DB = Davies_Bouldin(cluster_dict,df)"
   ]
  },
  {
   "cell_type": "code",
   "execution_count": 37,
   "metadata": {},
   "outputs": [
    {
     "data": {
      "text/plain": [
       "0.7819463126427624"
      ]
     },
     "execution_count": 37,
     "metadata": {},
     "output_type": "execute_result"
    }
   ],
   "source": [
    "DB"
   ]
  },
  {
   "cell_type": "code",
   "execution_count": null,
   "metadata": {
    "code_folding": []
   },
   "outputs": [],
   "source": [
    "#def MST_clustering_simon(K, ordered_result):\n",
    "#    cluster_dict = {}\n",
    "#    cluster_count = 1\n",
    "#    edge_count = 0\n",
    "#    visited = []\n",
    "#    \n",
    "#    \n",
    "#    for ite in ordered_result:\n",
    "#        # termination condition: if we are at K clusters, we just add the unvisited vertices as lone clusters\n",
    "#        if edge_count == 200 - K:\n",
    "#            for i in range(2):\n",
    "#                if ite[i] not in visited:\n",
    "#                    cluster_dict[cluster_count] = [ite[i]]\n",
    "#                    visited.append(ite[i])\n",
    "#                    cluster_count += 1\n",
    "#        # case 1:\n",
    "#        elif ite[0] not in visited and ite[1] not in visited:\n",
    "#            cluster_dict[cluster_count] = ite[:2]\n",
    "#            [visited.append(n) for n in ite[:2]]\n",
    "#            cluster_count += 1\n",
    "#            edge_count += 1\n",
    "#        # case 2:\n",
    "#        elif ite[0] in visited and ite[1] not in visited:\n",
    "#            for key, v in cluster_dict.items():\n",
    "#                if ite[0] in v:\n",
    "#                    cluster_dict[key].append(ite[1])\n",
    "#                    visited.append(ite[1])\n",
    "#                    edge_count += 1\n",
    "#        # case 2b: The other one:\n",
    "#        elif ite[1] in visited and ite[0] not in visited:\n",
    "#            for key, v in cluster_dict.items():\n",
    "#                if ite[1] in v:\n",
    "#                    cluster_dict[key].append(ite[0])\n",
    "#                    visited.append(ite[0])\n",
    "#                    edge_count += 1\n",
    "#        # case 3:\n",
    "#        elif ite[0] in visited and ite[1] in visited:\n",
    "#            for num in range(2):\n",
    "#                for key, v in cluster_dict.items():\n",
    "#                    if ite[num] in v:\n",
    "#                        # case 3: They are in different clusters: merge the 2 corresponding clusters\n",
    "#                        if ite[1-num] not in v:\n",
    "#                            if num == 0:\n",
    "#                                #cluster_dict[key].append(ite[num])\n",
    "#                                store_cluster = cluster_dict[key].copy()\n",
    "#                                cluster_dict[key] = []\n",
    "#                            elif num == 1:\n",
    "#                                [cluster_dict[key].append(n) for n in store_cluster]\n",
    "#                                edge_count += 1\n",
    "#                                \n",
    "#    # drop the keys where values were added to another key due to merging two clusters\n",
    "#    cluster_dict = {k: v for k, v in cluster_dict.items() if v != []}\n",
    "#    return cluster_dict"
   ]
  },
  {
   "cell_type": "markdown",
   "metadata": {},
   "source": [
    "# The Dunn Index"
   ]
  },
  {
   "cell_type": "code",
   "execution_count": 38,
   "metadata": {},
   "outputs": [],
   "source": [
    "def max_within(ordered_result, cluster_dict):\n",
    "    for i in range(len(ordered_result)):\n",
    "        for k,v in cluster_dict.items():\n",
    "            if ordered_result[-i-1][0] in v and ordered_result[-i-1][1] in v:\n",
    "                return ordered_result[-i-1][2]\n",
    "\n",
    "def min_between(ordered_result, cluster_dict):\n",
    "    for i in range(len(ordered_result)):\n",
    "        for k,v in cluster_dict.items():\n",
    "            if ordered_result[i][0] in v and ordered_result[i][1] not in v:\n",
    "                return ordered_result[i][2]\n",
    "\n",
    "def dunn(ordered_result, cluster_dict):\n",
    "    num = max_within(ordered_result, cluster_dict)\n",
    "    den = min_between(ordered_result, cluster_dict)\n",
    "    return num/den"
   ]
  },
  {
   "cell_type": "code",
   "execution_count": 39,
   "metadata": {},
   "outputs": [],
   "source": [
    "Dunn_Index = dunn(ordered_result,cluster_dict)"
   ]
  },
  {
   "cell_type": "code",
   "execution_count": 40,
   "metadata": {},
   "outputs": [
    {
     "data": {
      "text/plain": [
       "3.671891773159617"
      ]
     },
     "execution_count": 40,
     "metadata": {},
     "output_type": "execute_result"
    }
   ],
   "source": [
    "Dunn_Index"
   ]
  },
  {
   "cell_type": "markdown",
   "metadata": {},
   "source": [
    "# Running the pipeline:"
   ]
  },
  {
   "cell_type": "markdown",
   "metadata": {},
   "source": [
    "### For the dataset with 2 columns ('Synthetic')"
   ]
  },
  {
   "cell_type": "code",
   "execution_count": null,
   "metadata": {},
   "outputs": [],
   "source": [
    "N = 200\n",
    "X1, X2 = simulate_data_2(N)\n",
    "df = pd.DataFrame({'X1': X1, 'X2': X2}, columns=['X1', 'X2'])\n",
    "ordered_result = compute_dist(df)\n",
    "\n",
    "def main_MST(k, df):\n",
    "\n",
    "    cluster_dict = MST_clustering(K, N, ordered_result)\n",
    "    \n",
    "    df['Cluster']= get_df(cluster_dict)['Cluster']\n",
    "    \n",
    "    DB = Davies_Bouldin(cluster_dict,df)\n",
    "\n",
    "    Dunn = dunn(ordered_result, cluster_dict)\n",
    "    \n",
    "    return DB, Dunn"
   ]
  },
  {
   "cell_type": "code",
   "execution_count": null,
   "metadata": {},
   "outputs": [],
   "source": [
    "DB = main_MST(15,df)[0]\n",
    "Dunn = main_MST(15,df)[1]"
   ]
  },
  {
   "cell_type": "code",
   "execution_count": null,
   "metadata": {},
   "outputs": [],
   "source": [
    "import seaborn as sns\n",
    "sns.lineplot(n_clusters,DB)\n",
    "plt.show()\n",
    "sns.lineplot(n_clusters,Dunn)\n",
    "plt.show()"
   ]
  },
  {
   "cell_type": "markdown",
   "metadata": {},
   "source": [
    "### For the dataset with 5 columns ('Thyroid')"
   ]
  },
  {
   "cell_type": "code",
   "execution_count": 41,
   "metadata": {},
   "outputs": [],
   "source": [
    "N = 200\n",
    "X1, X2, X3, X4, X5 = simulate_data_5(N)\n",
    "df = pd.DataFrame({'X1': X1, 'X2': X2,'X3': X3, 'X4': X4, 'X5': X5}, columns=['X1', 'X2','X3', 'X4', 'X5'])\n",
    "ordered_result = compute_dist(df)\n",
    "\n",
    "def main(K, df):\n",
    "\n",
    "    cluster_dict = MST_clustering(K, N, ordered_result)\n",
    "    \n",
    "    df['Cluster']= get_df_5(cluster_dict)['Cluster']\n",
    "    \n",
    "    DB = Davies_Bouldin(cluster_dict,df)\n",
    "\n",
    "    Dunn = dunn(ordered_result, cluster_dict)\n",
    "    \n",
    "    return DB, Dunn\n",
    "\n",
    "n_clusters = []\n",
    "DB = []\n",
    "Dunn = []\n",
    "\n",
    "for K in range(2, N-1, 10):\n",
    "    n_clusters.append(K)\n",
    "    DB.append(main(K, df)[0])\n",
    "    Dunn.append(main(K,df)[1])"
   ]
  },
  {
   "cell_type": "code",
   "execution_count": 42,
   "metadata": {},
   "outputs": [
    {
     "data": {
      "image/png": "[encoded data removed]",
      "text/plain": [
       "<Figure size 432x288 with 1 Axes>"
      ]
     },
     "metadata": {
      "needs_background": "light"
     },
     "output_type": "display_data"
    },
    {
     "data": {
      "image/png": "[encoded data removed]",
      "text/plain": [
       "<Figure size 432x288 with 1 Axes>"
      ]
     },
     "metadata": {
      "needs_background": "light"
     },
     "output_type": "display_data"
    }
   ],
   "source": [
    "import seaborn as sns\n",
    "sns.lineplot(n_clusters,DB)\n",
    "plt.show()\n",
    "sns.lineplot(n_clusters,Dunn)\n",
    "plt.show()"
   ]
  },
  {
   "cell_type": "markdown",
   "metadata": {},
   "source": [
    "## K-Means Clustering"
   ]
  },
  {
   "cell_type": "code",
   "execution_count": 45,
   "metadata": {},
   "outputs": [],
   "source": [
    "X1, X2 = simulate_data_2(200)\n",
    "df = pd.DataFrame({'X1': X1, 'X2': X2,}, columns=['X1', 'X2'])"
   ]
  },
  {
   "cell_type": "code",
   "execution_count": 46,
   "metadata": {},
   "outputs": [
    {
     "data": {
      "text/html": [
       "<div>\n",
       "<style scoped>\n",
       "    .dataframe tbody tr th:only-of-type {\n",
       "        vertical-align: middle;\n",
       "    }\n",
       "\n",
       "    .dataframe tbody tr th {\n",
       "        vertical-align: top;\n",
       "    }\n",
       "\n",
       "    .dataframe thead th {\n",
       "        text-align: right;\n",
       "    }\n",
       "</style>\n",
       "<table border=\"1\" class=\"dataframe\">\n",
       "  <thead>\n",
       "    <tr style=\"text-align: right;\">\n",
       "      <th></th>\n",
       "      <th>X1</th>\n",
       "      <th>X2</th>\n",
       "    </tr>\n",
       "  </thead>\n",
       "  <tbody>\n",
       "    <tr>\n",
       "      <th>0</th>\n",
       "      <td>5.801081</td>\n",
       "      <td>12.178757</td>\n",
       "    </tr>\n",
       "    <tr>\n",
       "      <th>1</th>\n",
       "      <td>8.557269</td>\n",
       "      <td>11.869179</td>\n",
       "    </tr>\n",
       "    <tr>\n",
       "      <th>2</th>\n",
       "      <td>0.069280</td>\n",
       "      <td>24.563561</td>\n",
       "    </tr>\n",
       "    <tr>\n",
       "      <th>3</th>\n",
       "      <td>6.750666</td>\n",
       "      <td>18.270271</td>\n",
       "    </tr>\n",
       "    <tr>\n",
       "      <th>4</th>\n",
       "      <td>8.741371</td>\n",
       "      <td>9.163691</td>\n",
       "    </tr>\n",
       "    <tr>\n",
       "      <th>...</th>\n",
       "      <td>...</td>\n",
       "      <td>...</td>\n",
       "    </tr>\n",
       "    <tr>\n",
       "      <th>195</th>\n",
       "      <td>19.683571</td>\n",
       "      <td>24.850032</td>\n",
       "    </tr>\n",
       "    <tr>\n",
       "      <th>196</th>\n",
       "      <td>3.353494</td>\n",
       "      <td>1.695180</td>\n",
       "    </tr>\n",
       "    <tr>\n",
       "      <th>197</th>\n",
       "      <td>23.840215</td>\n",
       "      <td>18.377193</td>\n",
       "    </tr>\n",
       "    <tr>\n",
       "      <th>198</th>\n",
       "      <td>1.888631</td>\n",
       "      <td>9.867131</td>\n",
       "    </tr>\n",
       "    <tr>\n",
       "      <th>199</th>\n",
       "      <td>20.235389</td>\n",
       "      <td>10.983698</td>\n",
       "    </tr>\n",
       "  </tbody>\n",
       "</table>\n",
       "<p>200 rows × 2 columns</p>\n",
       "</div>"
      ],
      "text/plain": [
       "            X1         X2\n",
       "0     5.801081  12.178757\n",
       "1     8.557269  11.869179\n",
       "2     0.069280  24.563561\n",
       "3     6.750666  18.270271\n",
       "4     8.741371   9.163691\n",
       "..         ...        ...\n",
       "195  19.683571  24.850032\n",
       "196   3.353494   1.695180\n",
       "197  23.840215  18.377193\n",
       "198   1.888631   9.867131\n",
       "199  20.235389  10.983698\n",
       "\n",
       "[200 rows x 2 columns]"
      ]
     },
     "execution_count": 46,
     "metadata": {},
     "output_type": "execute_result"
    }
   ],
   "source": [
    "df"
   ]
  },
  {
   "cell_type": "code",
   "execution_count": 72,
   "metadata": {},
   "outputs": [],
   "source": [
    "def calc_distance(X1, X2):\n",
    "    return(sum((X1 - X2)**2))**0.5"
   ]
  },
  {
   "cell_type": "code",
   "execution_count": 130,
   "metadata": {},
   "outputs": [
    {
     "name": "stdout",
     "output_type": "stream",
     "text": [
      "X1           8.211351\n",
      "X2          15.704202\n",
      "X3          14.573800\n",
      "X4           2.399829\n",
      "X5          18.673271\n",
      "Cluster    111.000000\n",
      "Name: 0, dtype: float64\n",
      "23.665186641419023\n"
     ]
    }
   ],
   "source": [
    "for index, row in df.iterrows():\n",
    "    if index == 0:\n",
    "        print(row)\n",
    "        print(calc_distance(row[:-1],centroids[0][:-1]))"
   ]
  },
  {
   "cell_type": "code",
   "execution_count": 125,
   "metadata": {},
   "outputs": [
    {
     "data": {
      "text/plain": [
       "X1    11.375419\n",
       "X2     6.562705\n",
       "X3    15.575338\n",
       "X4    22.760159\n",
       "X5    11.537678\n",
       "Name: 163, dtype: float64"
      ]
     },
     "execution_count": 125,
     "metadata": {},
     "output_type": "execute_result"
    }
   ],
   "source": [
    "centroids[0][:-1]"
   ]
  },
  {
   "cell_type": "code",
   "execution_count": 91,
   "metadata": {},
   "outputs": [
    {
     "data": {
      "text/plain": [
       "X1           8.211351\n",
       "X2          15.704202\n",
       "X3          14.573800\n",
       "X4           2.399829\n",
       "X5          18.673271\n",
       "Cluster    111.000000\n",
       "Name: 0, dtype: float64"
      ]
     },
     "execution_count": 91,
     "metadata": {},
     "output_type": "execute_result"
    }
   ],
   "source": [
    "df.iloc[0]"
   ]
  },
  {
   "cell_type": "code",
   "execution_count": 89,
   "metadata": {},
   "outputs": [
    {
     "data": {
      "text/plain": [
       "X1          11.375419\n",
       "X2           6.562705\n",
       "X3          15.575338\n",
       "X4          22.760159\n",
       "X5          11.537678\n",
       "Cluster    132.000000\n",
       "Name: 163, dtype: float64"
      ]
     },
     "execution_count": 89,
     "metadata": {},
     "output_type": "execute_result"
    }
   ],
   "source": [
    "df.iloc[163]"
   ]
  },
  {
   "cell_type": "code",
   "execution_count": 76,
   "metadata": {},
   "outputs": [
    {
     "name": "stdout",
     "output_type": "stream",
     "text": [
      "X1          11.375419\n",
      "X2           6.562705\n",
      "X3          15.575338\n",
      "X4          22.760159\n",
      "X5          11.537678\n",
      "Cluster    132.000000\n",
      "Name: 163, dtype: float64\n",
      "X1          14.835474\n",
      "X2          20.548148\n",
      "X3           9.410841\n",
      "X4           7.913314\n",
      "X5           2.232419\n",
      "Cluster    175.000000\n",
      "Name: 28, dtype: float64\n",
      "X1         22.895428\n",
      "X2         15.767190\n",
      "X3         22.585763\n",
      "X4         13.514094\n",
      "X5         20.571904\n",
      "Cluster    65.000000\n",
      "Name: 6, dtype: float64\n",
      "X1         12.083401\n",
      "X2         20.407978\n",
      "X3          6.588538\n",
      "X4          7.694057\n",
      "X5         10.466419\n",
      "Cluster    51.000000\n",
      "Name: 189, dtype: float64\n",
      "X1          2.827908\n",
      "X2          9.055714\n",
      "X3         15.927491\n",
      "X4          5.943391\n",
      "X5         12.204942\n",
      "Cluster    24.000000\n",
      "Name: 70, dtype: float64\n"
     ]
    }
   ],
   "source": [
    "for center in centroids:\n",
    "    print(center)"
   ]
  },
  {
   "cell_type": "code",
   "execution_count": 133,
   "metadata": {},
   "outputs": [],
   "source": [
    "# Randomly assign indeces of cluster centroids:\n",
    "def initiate_centroids(n, df):\n",
    "    centroids = []\n",
    "    random.seed(42) # use this since we want to compare the different number of clusters\n",
    "    \n",
    "    #generate random centroid indeces\n",
    "    initial_index_centroid = random.sample(range(0, len(df)), n)\n",
    "    \n",
    "    #find the data points corresponding the the indeces:\n",
    "    for i in initial_index_centroid:\n",
    "        centroids.append(df.loc[i])\n",
    "    return centroids\n",
    "\n",
    "\n",
    "# To calculate the distance between two points:\n",
    "def calc_distance(X1, X2):\n",
    "    return(sum((X1 - X2)**2))**0.5\n",
    "\n",
    "\n",
    "# To find the closest centroid to each data point:\n",
    "def findClosestCentroids(centroids, df):\n",
    "    assigned_centroid = []\n",
    "    \n",
    "    #iterate over every data point in the dataframe:\n",
    "    for index, row in df.iterrows():\n",
    "        distance=[]\n",
    "        \n",
    "        #find distance of data point with each cluster:\n",
    "        for center in centroids:\n",
    "            distance.append(calc_distance(row[:-1], center[:-1]))\n",
    "            \n",
    "        #assign data point to closest cluster:\n",
    "        assigned_centroid.append(np.argmin(distance))\n",
    "    return assigned_centroid\n",
    "\n",
    "\n",
    "#To update the centroid of the clusters:\n",
    "def calc_centroids(clusters, df):\n",
    "    \n",
    "    #initiate empty list for new centroids of each cluster:\n",
    "    new_centroids = []\n",
    "    \n",
    "    #df including each point and its respective cluster\n",
    "    new_df = pd.concat([pd.DataFrame(df), pd.DataFrame(clusters, columns=['cluster'])],\n",
    "                      axis=1)\n",
    "    \n",
    "    #iterate over the distinct clusters\n",
    "    for c in set(new_df['cluster']):\n",
    "        \n",
    "        #take out the data points corresponding to each cluster:\n",
    "        current_cluster = new_df[new_df['cluster'] == c][new_df.columns[:-1]]\n",
    "        \n",
    "        #find the new cluster centroid which is the mean of the clusters we already assigned\n",
    "        cluster_mean = current_cluster.mean(axis=0)\n",
    "        \n",
    "        #append the new centroid\n",
    "        new_centroids.append(cluster_mean)\n",
    "        \n",
    "    return new_centroids\n",
    "\n",
    "\n",
    "#Recursively find and update cluster centroids:\n",
    "#n: number of clusters, df: dataframe of data points, iterations: number of iterations\n",
    "def recursive_centroid_find(n, df, iterations):\n",
    "    #initiate centroids:\n",
    "    centroids = initiate_centroids(n, df)\n",
    "    # Recursively call the functions again to update the mean of the clusters:\n",
    "    for i in range(iterations):\n",
    "        get_centroids = findClosestCentroids(centroids, df)\n",
    "        centroids = calc_centroids(get_centroids, df)\n",
    "        #print(pd.DataFrame(centroids))\n",
    "        \n",
    "        #plot the centroids after every iteration:\n",
    "        #plt.figure()\n",
    "        #plt.scatter(np.array(centroids)[:, 0], np.array(centroids)[:, 1], color='red')\n",
    "        #plt.scatter(df.X1, df.X2, alpha=0.1)\n",
    "        #plt.show()\n",
    "    return pd.DataFrame(centroids)"
   ]
  },
  {
   "cell_type": "code",
   "execution_count": 134,
   "metadata": {},
   "outputs": [
    {
     "data": {
      "text/html": [
       "<div>\n",
       "<style scoped>\n",
       "    .dataframe tbody tr th:only-of-type {\n",
       "        vertical-align: middle;\n",
       "    }\n",
       "\n",
       "    .dataframe tbody tr th {\n",
       "        vertical-align: top;\n",
       "    }\n",
       "\n",
       "    .dataframe thead th {\n",
       "        text-align: right;\n",
       "    }\n",
       "</style>\n",
       "<table border=\"1\" class=\"dataframe\">\n",
       "  <thead>\n",
       "    <tr style=\"text-align: right;\">\n",
       "      <th></th>\n",
       "      <th>X1</th>\n",
       "      <th>X2</th>\n",
       "      <th>X3</th>\n",
       "      <th>X4</th>\n",
       "      <th>X5</th>\n",
       "      <th>Cluster</th>\n",
       "    </tr>\n",
       "  </thead>\n",
       "  <tbody>\n",
       "    <tr>\n",
       "      <th>163</th>\n",
       "      <td>11.375419</td>\n",
       "      <td>6.562705</td>\n",
       "      <td>15.575338</td>\n",
       "      <td>22.760159</td>\n",
       "      <td>11.537678</td>\n",
       "      <td>132.0</td>\n",
       "    </tr>\n",
       "    <tr>\n",
       "      <th>28</th>\n",
       "      <td>14.835474</td>\n",
       "      <td>20.548148</td>\n",
       "      <td>9.410841</td>\n",
       "      <td>7.913314</td>\n",
       "      <td>2.232419</td>\n",
       "      <td>175.0</td>\n",
       "    </tr>\n",
       "    <tr>\n",
       "      <th>6</th>\n",
       "      <td>22.895428</td>\n",
       "      <td>15.767190</td>\n",
       "      <td>22.585763</td>\n",
       "      <td>13.514094</td>\n",
       "      <td>20.571904</td>\n",
       "      <td>65.0</td>\n",
       "    </tr>\n",
       "    <tr>\n",
       "      <th>189</th>\n",
       "      <td>12.083401</td>\n",
       "      <td>20.407978</td>\n",
       "      <td>6.588538</td>\n",
       "      <td>7.694057</td>\n",
       "      <td>10.466419</td>\n",
       "      <td>51.0</td>\n",
       "    </tr>\n",
       "    <tr>\n",
       "      <th>70</th>\n",
       "      <td>2.827908</td>\n",
       "      <td>9.055714</td>\n",
       "      <td>15.927491</td>\n",
       "      <td>5.943391</td>\n",
       "      <td>12.204942</td>\n",
       "      <td>24.0</td>\n",
       "    </tr>\n",
       "  </tbody>\n",
       "</table>\n",
       "</div>"
      ],
      "text/plain": [
       "            X1         X2         X3         X4         X5  Cluster\n",
       "163  11.375419   6.562705  15.575338  22.760159  11.537678    132.0\n",
       "28   14.835474  20.548148   9.410841   7.913314   2.232419    175.0\n",
       "6    22.895428  15.767190  22.585763  13.514094  20.571904     65.0\n",
       "189  12.083401  20.407978   6.588538   7.694057  10.466419     51.0\n",
       "70    2.827908   9.055714  15.927491   5.943391  12.204942     24.0"
      ]
     },
     "execution_count": 134,
     "metadata": {},
     "output_type": "execute_result"
    }
   ],
   "source": [
    "pd.DataFrame(centroids)"
   ]
  },
  {
   "cell_type": "code",
   "execution_count": 135,
   "metadata": {},
   "outputs": [
    {
     "data": {
      "text/html": [
       "<div>\n",
       "<style scoped>\n",
       "    .dataframe tbody tr th:only-of-type {\n",
       "        vertical-align: middle;\n",
       "    }\n",
       "\n",
       "    .dataframe tbody tr th {\n",
       "        vertical-align: top;\n",
       "    }\n",
       "\n",
       "    .dataframe thead th {\n",
       "        text-align: right;\n",
       "    }\n",
       "</style>\n",
       "<table border=\"1\" class=\"dataframe\">\n",
       "  <thead>\n",
       "    <tr style=\"text-align: right;\">\n",
       "      <th></th>\n",
       "      <th>X1</th>\n",
       "      <th>X2</th>\n",
       "      <th>X3</th>\n",
       "      <th>X4</th>\n",
       "      <th>X5</th>\n",
       "      <th>Cluster</th>\n",
       "    </tr>\n",
       "  </thead>\n",
       "  <tbody>\n",
       "    <tr>\n",
       "      <th>0</th>\n",
       "      <td>14.331562</td>\n",
       "      <td>7.722663</td>\n",
       "      <td>12.996948</td>\n",
       "      <td>19.130468</td>\n",
       "      <td>11.355066</td>\n",
       "      <td>95.111111</td>\n",
       "    </tr>\n",
       "    <tr>\n",
       "      <th>1</th>\n",
       "      <td>15.823955</td>\n",
       "      <td>17.566949</td>\n",
       "      <td>10.995590</td>\n",
       "      <td>10.545203</td>\n",
       "      <td>3.673154</td>\n",
       "      <td>97.352941</td>\n",
       "    </tr>\n",
       "    <tr>\n",
       "      <th>2</th>\n",
       "      <td>18.348256</td>\n",
       "      <td>15.121431</td>\n",
       "      <td>19.584871</td>\n",
       "      <td>11.551653</td>\n",
       "      <td>18.258302</td>\n",
       "      <td>82.541667</td>\n",
       "    </tr>\n",
       "    <tr>\n",
       "      <th>3</th>\n",
       "      <td>12.414465</td>\n",
       "      <td>16.680320</td>\n",
       "      <td>5.072212</td>\n",
       "      <td>10.406120</td>\n",
       "      <td>15.221732</td>\n",
       "      <td>93.163265</td>\n",
       "    </tr>\n",
       "    <tr>\n",
       "      <th>4</th>\n",
       "      <td>6.587459</td>\n",
       "      <td>9.037919</td>\n",
       "      <td>15.215063</td>\n",
       "      <td>6.970476</td>\n",
       "      <td>12.232662</td>\n",
       "      <td>92.250000</td>\n",
       "    </tr>\n",
       "  </tbody>\n",
       "</table>\n",
       "</div>"
      ],
      "text/plain": [
       "          X1         X2         X3         X4         X5    Cluster\n",
       "0  14.331562   7.722663  12.996948  19.130468  11.355066  95.111111\n",
       "1  15.823955  17.566949  10.995590  10.545203   3.673154  97.352941\n",
       "2  18.348256  15.121431  19.584871  11.551653  18.258302  82.541667\n",
       "3  12.414465  16.680320   5.072212  10.406120  15.221732  93.163265\n",
       "4   6.587459   9.037919  15.215063   6.970476  12.232662  92.250000"
      ]
     },
     "execution_count": 135,
     "metadata": {},
     "output_type": "execute_result"
    }
   ],
   "source": [
    "n=5\n",
    "centroids = initiate_centroids(n, df)\n",
    "get_centroids = findClosestCentroids(centroids, df)\n",
    "recursive_centroid_find(n, df, 1)"
   ]
  },
  {
   "cell_type": "code",
   "execution_count": 49,
   "metadata": {},
   "outputs": [],
   "source": [
    "df['Cluster'] = findClosestCentroids(centroids, df)"
   ]
  },
  {
   "cell_type": "code",
   "execution_count": 50,
   "metadata": {},
   "outputs": [
    {
     "data": {
      "text/html": [
       "<div>\n",
       "<style scoped>\n",
       "    .dataframe tbody tr th:only-of-type {\n",
       "        vertical-align: middle;\n",
       "    }\n",
       "\n",
       "    .dataframe tbody tr th {\n",
       "        vertical-align: top;\n",
       "    }\n",
       "\n",
       "    .dataframe thead th {\n",
       "        text-align: right;\n",
       "    }\n",
       "</style>\n",
       "<table border=\"1\" class=\"dataframe\">\n",
       "  <thead>\n",
       "    <tr style=\"text-align: right;\">\n",
       "      <th></th>\n",
       "      <th>X1</th>\n",
       "      <th>X2</th>\n",
       "      <th>Cluster</th>\n",
       "    </tr>\n",
       "  </thead>\n",
       "  <tbody>\n",
       "    <tr>\n",
       "      <th>0</th>\n",
       "      <td>5.801081</td>\n",
       "      <td>12.178757</td>\n",
       "      <td>1</td>\n",
       "    </tr>\n",
       "    <tr>\n",
       "      <th>1</th>\n",
       "      <td>8.557269</td>\n",
       "      <td>11.869179</td>\n",
       "      <td>2</td>\n",
       "    </tr>\n",
       "    <tr>\n",
       "      <th>2</th>\n",
       "      <td>0.069280</td>\n",
       "      <td>24.563561</td>\n",
       "      <td>1</td>\n",
       "    </tr>\n",
       "    <tr>\n",
       "      <th>3</th>\n",
       "      <td>6.750666</td>\n",
       "      <td>18.270271</td>\n",
       "      <td>1</td>\n",
       "    </tr>\n",
       "    <tr>\n",
       "      <th>4</th>\n",
       "      <td>8.741371</td>\n",
       "      <td>9.163691</td>\n",
       "      <td>3</td>\n",
       "    </tr>\n",
       "    <tr>\n",
       "      <th>...</th>\n",
       "      <td>...</td>\n",
       "      <td>...</td>\n",
       "      <td>...</td>\n",
       "    </tr>\n",
       "    <tr>\n",
       "      <th>195</th>\n",
       "      <td>19.683571</td>\n",
       "      <td>24.850032</td>\n",
       "      <td>2</td>\n",
       "    </tr>\n",
       "    <tr>\n",
       "      <th>196</th>\n",
       "      <td>3.353494</td>\n",
       "      <td>1.695180</td>\n",
       "      <td>3</td>\n",
       "    </tr>\n",
       "    <tr>\n",
       "      <th>197</th>\n",
       "      <td>23.840215</td>\n",
       "      <td>18.377193</td>\n",
       "      <td>2</td>\n",
       "    </tr>\n",
       "    <tr>\n",
       "      <th>198</th>\n",
       "      <td>1.888631</td>\n",
       "      <td>9.867131</td>\n",
       "      <td>3</td>\n",
       "    </tr>\n",
       "    <tr>\n",
       "      <th>199</th>\n",
       "      <td>20.235389</td>\n",
       "      <td>10.983698</td>\n",
       "      <td>0</td>\n",
       "    </tr>\n",
       "  </tbody>\n",
       "</table>\n",
       "<p>200 rows × 3 columns</p>\n",
       "</div>"
      ],
      "text/plain": [
       "            X1         X2  Cluster\n",
       "0     5.801081  12.178757        1\n",
       "1     8.557269  11.869179        2\n",
       "2     0.069280  24.563561        1\n",
       "3     6.750666  18.270271        1\n",
       "4     8.741371   9.163691        3\n",
       "..         ...        ...      ...\n",
       "195  19.683571  24.850032        2\n",
       "196   3.353494   1.695180        3\n",
       "197  23.840215  18.377193        2\n",
       "198   1.888631   9.867131        3\n",
       "199  20.235389  10.983698        0\n",
       "\n",
       "[200 rows x 3 columns]"
      ]
     },
     "execution_count": 50,
     "metadata": {},
     "output_type": "execute_result"
    }
   ],
   "source": [
    "df"
   ]
  },
  {
   "cell_type": "code",
   "execution_count": 51,
   "metadata": {},
   "outputs": [
    {
     "data": {
      "text/plain": [
       "1.0"
      ]
     },
     "execution_count": 51,
     "metadata": {},
     "output_type": "execute_result"
    }
   ],
   "source": [
    "df.iloc[0][2]"
   ]
  },
  {
   "cell_type": "code",
   "execution_count": 52,
   "metadata": {},
   "outputs": [],
   "source": [
    "def get_cluster_dict(df):\n",
    "    cluster_dict = {}\n",
    "    visited = []\n",
    "    for n in range(0,len(df)):\n",
    "        if int(df.iloc[n][2]) in visited:\n",
    "            cluster_dict[int(df.iloc[n][2])] += [n]\n",
    "        else:\n",
    "            cluster_dict[int(df.iloc[n][2])] = [n]\n",
    "            visited.append(int(df.iloc[n][2]))\n",
    "    return cluster_dict"
   ]
  },
  {
   "cell_type": "code",
   "execution_count": 53,
   "metadata": {},
   "outputs": [],
   "source": [
    "cluster_dict = get_cluster_dict(df)"
   ]
  },
  {
   "cell_type": "code",
   "execution_count": 54,
   "metadata": {},
   "outputs": [
    {
     "data": {
      "text/plain": [
       "5"
      ]
     },
     "execution_count": 54,
     "metadata": {},
     "output_type": "execute_result"
    }
   ],
   "source": [
    "len(cluster_dict)"
   ]
  },
  {
   "cell_type": "markdown",
   "metadata": {},
   "source": [
    "# Running the pipeline:"
   ]
  },
  {
   "cell_type": "markdown",
   "metadata": {},
   "source": [
    "### For the dataset with 2 columns ('Synthetic')"
   ]
  },
  {
   "cell_type": "code",
   "execution_count": 55,
   "metadata": {},
   "outputs": [],
   "source": [
    "N = 200\n",
    "X1, X2 = simulate_data_2(N)\n",
    "df = pd.DataFrame({'X1': X1, 'X2': X2}, columns=['X1', 'X2'])\n",
    "\n",
    "def main_KMeans(k, df):\n",
    "    \n",
    "    centroids = initiate_centroids(k, df)\n",
    "    df['Cluster'] = findClosestCentroids(centroids, df)\n",
    "    cluster_dict = get_cluster_dict(df)\n",
    "    DB = Davies_Bouldin(cluster_dict,df)\n",
    "    Dunn = dunn(ordered_result, cluster_dict)\n",
    "    \n",
    "    return DB, Dunn"
   ]
  },
  {
   "cell_type": "code",
   "execution_count": 56,
   "metadata": {},
   "outputs": [],
   "source": [
    "DB, Dunn = main_KMeans(15,df)"
   ]
  },
  {
   "cell_type": "code",
   "execution_count": 57,
   "metadata": {},
   "outputs": [
    {
     "data": {
      "text/plain": [
       "0.9955699383528245"
      ]
     },
     "execution_count": 57,
     "metadata": {},
     "output_type": "execute_result"
    }
   ],
   "source": [
    "DB"
   ]
  },
  {
   "cell_type": "code",
   "execution_count": 58,
   "metadata": {},
   "outputs": [
    {
     "data": {
      "text/plain": [
       "15.893418401087557"
      ]
     },
     "execution_count": 58,
     "metadata": {},
     "output_type": "execute_result"
    }
   ],
   "source": [
    "Dunn"
   ]
  },
  {
   "cell_type": "markdown",
   "metadata": {},
   "source": [
    "### For the dataset with 5 columns ('Thyroid')"
   ]
  },
  {
   "cell_type": "code",
   "execution_count": 61,
   "metadata": {},
   "outputs": [],
   "source": [
    "N = 200\n",
    "X1, X2, X3, X4, X5 = simulate_data_5(N)\n",
    "df = pd.DataFrame({'X1': X1, 'X2': X2,'X3': X3, 'X4': X4, 'X5': X5}, columns=['X1', 'X2','X3', 'X4', 'X5'])\n",
    "\n",
    "def main_KMeans(k, df):\n",
    "    \n",
    "    centroids = initiate_centroids(k, df)\n",
    "    df['Cluster'] = findClosestCentroids(centroids, df)\n",
    "    cluster_dict = get_cluster_dict(df)\n",
    "    DB = Davies_Bouldin(cluster_dict,df)\n",
    "    Dunn = dunn(ordered_result, cluster_dict)\n",
    "    \n",
    "    return DB, Dunn"
   ]
  },
  {
   "cell_type": "code",
   "execution_count": 63,
   "metadata": {},
   "outputs": [],
   "source": [
    "n_clusters = []\n",
    "DB = []\n",
    "Dunn = []\n",
    "for K in range(2, N-1, 10):\n",
    "    n_clusters.append(K)\n",
    "    DB.append(main(K, df)[0])\n",
    "    Dunn.append(main(K,df)[1])"
   ]
  },
  {
   "cell_type": "code",
   "execution_count": 64,
   "metadata": {},
   "outputs": [
    {
     "data": {
      "image/png": "[encoded data removed]",
      "text/plain": [
       "<Figure size 432x288 with 1 Axes>"
      ]
     },
     "metadata": {
      "needs_background": "light"
     },
     "output_type": "display_data"
    },
    {
     "data": {
      "image/png": "[encoded data removed]",
      "text/plain": [
       "<Figure size 432x288 with 1 Axes>"
      ]
     },
     "metadata": {
      "needs_background": "light"
     },
     "output_type": "display_data"
    }
   ],
   "source": [
    "import seaborn as sns\n",
    "sns.lineplot(n_clusters,DB)\n",
    "plt.show()\n",
    "sns.lineplot(n_clusters,Dunn)\n",
    "plt.show()"
   ]
  }
 ],
 "metadata": {
  "kernelspec": {
   "display_name": "Python 3",
   "language": "python",
   "name": "python3"
  },
  "language_info": {
   "codemirror_mode": {
    "name": "ipython",
    "version": 3
   },
   "file_extension": ".py",
   "mimetype": "text/x-python",
   "name": "python",
   "nbconvert_exporter": "python",
   "pygments_lexer": "ipython3",
   "version": "3.8.5"
  },
  "toc": {
   "base_numbering": 1,
   "nav_menu": {},
   "number_sections": true,
   "sideBar": true,
   "skip_h1_title": false,
   "title_cell": "Table of Contents",
   "title_sidebar": "Contents",
   "toc_cell": false,
   "toc_position": {},
   "toc_section_display": true,
   "toc_window_display": false
  }
 },
 "nbformat": 4,
 "nbformat_minor": 4
}
