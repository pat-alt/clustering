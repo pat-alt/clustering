{
 "cells": [
  {
   "cell_type": "markdown",
   "metadata": {},
   "source": [
    "# Optimization projec: clustering"
   ]
  },
  {
   "cell_type": "code",
   "execution_count": 1,
   "metadata": {},
   "outputs": [],
   "source": [
    "import numpy as np\n",
    "from numpy import random\n",
    "import pandas as pd\n",
    "from sklearn.neighbors import DistanceMetric\n",
    "import functools\n",
    "import operator\n",
    "import matplotlib.pyplot as plt"
   ]
  },
  {
   "cell_type": "markdown",
   "metadata": {},
   "source": [
    "__Given that we don't have the proper datafiles to run the code, we will use synthetic ones to still do the work, and\n",
    "as soon as we have the real files we will just substitute them.__"
   ]
  },
  {
   "cell_type": "code",
   "execution_count": 18,
   "metadata": {},
   "outputs": [],
   "source": [
    "#Simulate dataframe\n",
    "def simulate_data(N):\n",
    "    X1 = np.random.uniform(low=0, high=25, size=(N,))\n",
    "    X2 = np.random.uniform(low=5, high=30, size=(N))\n",
    "    return X1, X2"
   ]
  },
  {
   "cell_type": "markdown",
   "metadata": {},
   "source": [
    "# Minimum Spanning Tree Clustering\n"
   ]
  },
  {
   "cell_type": "markdown",
   "metadata": {},
   "source": [
    "## naive approach: compute all distances:"
   ]
  },
  {
   "cell_type": "code",
   "execution_count": 3,
   "metadata": {},
   "outputs": [],
   "source": [
    "def compute_dist(X1, X2):\n",
    "    result = []\n",
    "    for i in range(len(X1)):\n",
    "        for j in range(i+1,len(X2)):\n",
    "            d = np.linalg.norm(np.array([x1[i], x2[i]]) - np.array([x1[j], x2[j]]))\n",
    "            result.append([i, j, d])\n",
    "\n",
    "    ordered_result = sorted(result, key=lambda t: t[::-1])\n",
    "    return ordered_result"
   ]
  },
  {
   "cell_type": "markdown",
   "metadata": {},
   "source": [
    "## MST"
   ]
  },
  {
   "cell_type": "markdown",
   "metadata": {},
   "source": [
    "To find the minimum spanning tree it makes sense to differentiate the following cases:\n",
    "\n",
    "    case 1: None of them are in a cluster:\n",
    "    case 2: Only one of them is already in a cluster:\n",
    "    case 3: Both of them are already in a cluster:\n",
    "        --> 3a: Both of them are in the same cluster: do nothing\n",
    "        --> 3b: They are in different clusters: merge the 2 corresponding clusters\n"
   ]
  },
  {
   "cell_type": "code",
   "execution_count": 4,
   "metadata": {
    "code_folding": []
   },
   "outputs": [],
   "source": [
    "def MST_clustering(K, ordered_result):\n",
    "    cluster_dict = {}\n",
    "    cluster_count = 1\n",
    "    edge_count = 0\n",
    "    visited = []\n",
    "    \n",
    "    \n",
    "    for ite in ordered_result:\n",
    "        # termination condition: if we are at K clusters, we just add the unvisited vertices as lone clusters\n",
    "        if edge_count == 200 - K:\n",
    "            for i in range(2):\n",
    "                if ite[i] not in visited:\n",
    "                    cluster_dict[cluster_count] = [ite[i]]\n",
    "                    visited.append(ite[i])\n",
    "                    cluster_count += 1\n",
    "        # case 1:\n",
    "        elif ite[0] not in visited and ite[1] not in visited:\n",
    "            cluster_dict[cluster_count] = ite[:2]\n",
    "            [visited.append(n) for n in ite[:2]]\n",
    "            cluster_count += 1\n",
    "            edge_count += 1\n",
    "        # case 2:\n",
    "        elif ite[0] in visited and ite[1] not in visited:\n",
    "            for key, v in cluster_dict.items():\n",
    "                if ite[0] in v:\n",
    "                    cluster_dict[key].append(ite[1])\n",
    "                    visited.append(ite[1])\n",
    "                    edge_count += 1\n",
    "        # case 2b: The other one:\n",
    "        elif ite[1] in visited and ite[0] not in visited:\n",
    "            for key, v in cluster_dict.items():\n",
    "                if ite[1] in v:\n",
    "                    cluster_dict[key].append(ite[0])\n",
    "                    visited.append(ite[0])\n",
    "                    edge_count += 1\n",
    "        # case 3:\n",
    "        elif ite[0] in visited and ite[1] in visited:\n",
    "            for num in range(2):\n",
    "                for key, v in cluster_dict.items():\n",
    "                    if ite[num] in v:\n",
    "                        # case 3: They are in different clusters: merge the 2 corresponding clusters\n",
    "                        if ite[1-num] not in v:\n",
    "                            if num == 0:\n",
    "                                #cluster_dict[key].append(ite[num])\n",
    "                                store_cluster = cluster_dict[key].copy()\n",
    "                                cluster_dict[key] = []\n",
    "                            elif num == 1:\n",
    "                                [cluster_dict[key].append(n) for n in store_cluster]\n",
    "                                edge_count += 1\n",
    "                                \n",
    "    # drop the keys where values were added to another key due to merging two clusters\n",
    "    cluster_dict = {k: v for k, v in cluster_dict.items() if v != []}\n",
    "    return cluster_dict"
   ]
  },
  {
   "cell_type": "code",
   "execution_count": 5,
   "metadata": {},
   "outputs": [],
   "source": [
    "def get_df(cluster_dict):\n",
    "    ind_list = []\n",
    "    clust_list = []\n",
    "\n",
    "    for k, v in cluster_dict.items():\n",
    "        [clust_list.append(k) for i in v]\n",
    "        [ind_list.append(val) for val in v]\n",
    "\n",
    "    df_s = pd.DataFrame()\n",
    "    df_s['index'] = ind_list\n",
    "    df_s['cluster'] = clust_list\n",
    "    \n",
    "    df_s = df_s.sort_values('index').set_index('index')\n",
    "    \n",
    "    df_s['x1'] = x1\n",
    "    df_s['x2'] = x2\n",
    "    return df_s"
   ]
  },
  {
   "cell_type": "code",
   "execution_count": 6,
   "metadata": {},
   "outputs": [],
   "source": [
    "def max_within(ordered_result, cluster_dict):\n",
    "    for i in range(len(ordered_result)):\n",
    "        for k,v in cluster_dict.items():\n",
    "            if ordered_result[-i-1][0] in v and ordered_result[-i-1][1] in v:\n",
    "                return ordered_result[-i-1][2]\n",
    "\n",
    "def min_between(ordered_result, cluster_dict):\n",
    "    for i in range(len(ordered_result)):\n",
    "        for k,v in cluster_dict.items():\n",
    "            if ordered_result[i][0] in v and ordered_result[i][1] not in v:\n",
    "                return ordered_result[i][2]\n",
    "\n",
    "def dunn(ordered_result, cluster_dict):\n",
    "    num = max_within(ordered_result, cluster_dict)\n",
    "    den = min_between(ordered_result, cluster_dict)\n",
    "    return num/den"
   ]
  },
  {
   "cell_type": "markdown",
   "metadata": {},
   "source": [
    "# Running the pipeline:"
   ]
  },
  {
   "cell_type": "code",
   "execution_count": 16,
   "metadata": {},
   "outputs": [],
   "source": [
    "N = 200\n",
    "K = 4\n",
    "iterations = 15\n",
    "x1, x2 = simulate_data(N)\n",
    "\n",
    "def main(K, x1, x2):\n",
    "    \n",
    "    ordered_result = compute_dist(x1, x2)\n",
    "\n",
    "    cluster_dict = MST_clustering(K, ordered_result)\n",
    "\n",
    "    df = get_df(cluster_dict)\n",
    "\n",
    "    dn = dunn(ordered_result, cluster_dict)\n",
    "    return dn\n",
    "\n",
    "\n",
    "x = []\n",
    "y = []\n",
    "\n",
    "for K in range(2, N-1, 10):\n",
    "    x.append(K)\n",
    "    y.append(main(K, x1, x2))"
   ]
  },
  {
   "cell_type": "code",
   "execution_count": 17,
   "metadata": {},
   "outputs": [
    {
     "data": {
      "image/png": "[encoded data removed]",
      "text/plain": [
       "<Figure size 432x288 with 1 Axes>"
      ]
     },
     "metadata": {
      "needs_background": "light"
     },
     "output_type": "display_data"
    }
   ],
   "source": [
    "import seaborn as sns\n",
    "sns.lineplot(x,y)\n",
    "plt.show()"
   ]
  },
  {
   "cell_type": "markdown",
   "metadata": {},
   "source": [
    "Makes sense, our data looks like 2 clusters, so highest DU for K=2 is what we expect. (the higher DU the better)!"
   ]
  }
 ],
 "metadata": {
  "kernelspec": {
   "display_name": "Python 3",
   "language": "python",
   "name": "python3"
  },
  "language_info": {
   "codemirror_mode": {
    "name": "ipython",
    "version": 3
   },
   "file_extension": ".py",
   "mimetype": "text/x-python",
   "name": "python",
   "nbconvert_exporter": "python",
   "pygments_lexer": "ipython3",
   "version": "3.7.6"
  },
  "toc": {
   "base_numbering": 1,
   "nav_menu": {},
   "number_sections": true,
   "sideBar": true,
   "skip_h1_title": false,
   "title_cell": "Table of Contents",
   "title_sidebar": "Contents",
   "toc_cell": false,
   "toc_position": {},
   "toc_section_display": true,
   "toc_window_display": false
  }
 },
 "nbformat": 4,
 "nbformat_minor": 4
}
